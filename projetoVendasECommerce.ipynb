{
 "cells": [
  {
   "cell_type": "markdown",
   "id": "29c8f744",
   "metadata": {},
   "source": [
    "## Introdução\n",
    "\n",
    "Projeto de análise de dados de um e-commerce de produtos diversos, entenderemos como anda sua área de vendas e com base em hipóteses (???????), analisar possíveis mudança de cenário.\n",
    "\n",
    "\n",
    "Nossa base de dados está no dump no link a seguir: [Bases de dados SQL](https://drive.google.com/file/d/1gvvTVYqdP7Yvo4SLAl4Mt6JtAUcH3SMJ/view)"
   ]
  },
  {
   "cell_type": "markdown",
   "id": "1f0ac4f2",
   "metadata": {},
   "source": [
    "## Contexto - ARRUMAR AINDA!!!!!!!!!!!!!!!!!!!!!!!!!!!!!!!!!!\n",
    "\n",
    "#### Introdução ao Projeto\n",
    "\n",
    "Neste projeto, conduzimos uma análise completa do desempenho de vendas de uma empresa de e-commerce, com foco na geração de insights que apoiem a tomada de decisão estratégica por parte das lideranças comerciais e de operações. Foram aplicadas técnicas de limpeza, padronização e estruturação dos dados utilizando Python, seguidas por análises exploratórias e geração de métricas de negócio, que servirão como base para a criação de uma dashboard gerencial no Power BI.\n",
    "\n",
    "O objetivo central é entender melhor o comportamento de compra dos clientes, a performance dos produtos e vendedores, e os fatores que influenciam o custo logístico, a fim de auxiliar a empresa a otimizar suas ações comerciais, operacionais e de marketing.\n",
    "\n",
    "\n",
    "#### 🏢 Contexto da Empresa Fictícia: EletroMais\n",
    "\n",
    "No cenário deste projeto, estamos lidando com a EletroMais, uma empresa fictícia do setor de e-commerce especializada na venda de produtos eletrônicos e eletroportáteis. Com uma operação nacional e atuação em diversos marketplaces, a empresa tem enfrentado o desafio de traduzir grandes volumes de dados de vendas em informações úteis para os gestores.\n",
    "\n",
    "A equipe executiva da EletroMais busca respostas para questões-chave como:\n",
    "- Quais produtos ou categorias geram maior valor agregado?\n",
    "- Como avaliar o desempenho dos vendedores de forma comparável?\n",
    "- Existem regiões mais promissoras em termos de faturamento?\n",
    "- Quanto do faturamento é comprometido com custos logísticos?\n",
    "\n",
    "Diante disso, foi solicitado um estudo detalhado com base nos dados brutos de vendas, pedidos, produtos e vendedores, para identificar padrões, gargalos e oportunidades de melhoria. O resultado esperado é um conjunto de análises que deem suporte à estratégia de crescimento sustentável da empresa, e uma dashboard executiva que permita o acompanhamento contínuo desses indicadores.\n",
    "\n"
   ]
  },
  {
   "cell_type": "markdown",
   "id": "69a0cb94",
   "metadata": {},
   "source": [
    "### Roteiro a arrumar(!!!!!!!)\n",
    "\n",
    "#### Python\n",
    "#### Análise de Performance Comercial\n",
    "Fomos contratados para responder\\\n",
    "Objetivo: Avaliar o desempenho de vendas da empresa com foco em produtos, faturamento e vendedores. Ideal para entender o que gera receita e quem impulsiona os resultados.\n",
    "\n",
    "1. Top Produtos por Faturamento\n",
    "    - Ranking dos produtos com maior valor_total (agrupar por produto)\n",
    "    - Percentual de participação dos 10 maiores no total da receita\n",
    "2. Categorias com Maior Receita\n",
    "3. Análise por marca e condicao (ex: novo vs. usado)\n",
    "    - Gráfico de barras ou pizza para visualização de participação\n",
    "4. Análise geográfica com base na coluna estado da tabela itens_pedido\n",
    "5. Custo Logístico Total (Frete)\n",
    "    - Soma total de frete mensal e diferença por lucro\n",
    "    - Lucro por estado e média por pedido"
   ]
  },
  {
   "cell_type": "markdown",
   "id": "7999e208",
   "metadata": {},
   "source": [
    "#### Power BI\n",
    "Ambas as dashboards terão foco para o gerenciamento.\n",
    "\n",
    "#### Dashboard Comercial \n",
    "- Faturamento Total e Evolução Mensal\n",
    "    - Gráfico de linha: evolução do faturamento ao longo do tempo (data_compra x total)\n",
    "- Média de vendas por mês\n",
    "    - Comparação de sazonalidade (melhores e piores meses)\n",
    "- Análise de Vendedores\n",
    "    - Total de vendas por vendedor (vendedor_id)\n",
    "- Ticket médio por vendedor (total vendido / nº de pedidos)\n",
    "    - Gráfico de barras horizontais comparando vendedores\n",
    "- Comparação por mês e por vendedor\n",
    "    - Produto com Maior Quantidade Vendida (vs. Maior Receita)\n",
    "- Mapa de Calor de Vendas por Estado (????)\n",
    "\n",
    "4. Análise de Ticket Médio\n",
    "    - Ticket médio por pedido (total / quantidade de pedidos)\n",
    "\n",
    "- Comparação por estado e por produto\n",
    "- Número de pedidos por estado ao longo do tempo\n",
    "- Percentual do frete sobre o faturamento (frete / valor_total) mensal e média anual \n",
    "\n"
   ]
  },
  {
   "cell_type": "markdown",
   "id": "93258a31",
   "metadata": {},
   "source": [
    "## Códigos\n"
   ]
  },
  {
   "cell_type": "markdown",
   "id": "ad83bd4d",
   "metadata": {},
   "source": [
    "### Bibliotecas"
   ]
  },
  {
   "cell_type": "code",
   "execution_count": 1,
   "id": "7486586d",
   "metadata": {},
   "outputs": [],
   "source": [
    "# Tratamento e visualização\n",
    "import pandas as pd\n",
    "import numpy as np\n",
    "\n",
    "# Conexão e tratamento de erros\n",
    "import mysql.connector\n",
    "import os\n",
    "from dotenv import load_dotenv\n",
    "from sqlalchemy import create_engine, text\n",
    "\n",
    "# Visualização e análises\n",
    "import matplotlib.pyplot as plt\n",
    "import seaborn as sns\n",
    "import plotly.express as px\n"
   ]
  },
  {
   "cell_type": "markdown",
   "id": "84f1d83a",
   "metadata": {},
   "source": [
    "### Banco de Dados\n",
    "Importaremos as bases de dados abaixo para tratamento e visualização"
   ]
  },
  {
   "cell_type": "code",
   "execution_count": 2,
   "id": "a1318d90",
   "metadata": {},
   "outputs": [
    {
     "name": "stdout",
     "output_type": "stream",
     "text": [
      " Dump importado com sucesso! \n"
     ]
    }
   ],
   "source": [
    "#Carregando as credenciais do arquivo .env\n",
    "load_dotenv()\n",
    "\n",
    "# Pegando as credenciais do ambiente\n",
    "host = os.getenv(\"DB_HOST\")\n",
    "user = os.getenv(\"DB_USER\")\n",
    "password = os.getenv(\"DB_PASSWORD\")\n",
    "db_name = os.getenv(\"DB_NAME\")\n",
    "\n",
    "# Caminho dos dados\n",
    "caminho_dump = \"Material/dump-ecommerce202304191245.sql\"\n",
    "\n",
    "#Lendo o arquivo\n",
    "with open(caminho_dump, 'r', encoding='utf-8') as f:\n",
    "    sql_script = f.read()\n",
    "\n",
    "# Conectando ao servidor MySQL\n",
    "conn = mysql.connector.connect(\n",
    "    host= host,\n",
    "    user = user,\n",
    "    password = password,\n",
    "    database= db_name\n",
    ")\n",
    "cursor = conn.cursor()\n",
    "\n",
    "\n",
    "# Executando as instruções do dump\n",
    "statements = sql_script.split(';')\n",
    "for stmt in statements:\n",
    "    stmt = stmt.strip()\n",
    "    if stmt:\n",
    "        try:\n",
    "            cursor.execute(stmt)\n",
    "        except mysql.connector.Error as err:\n",
    "            print(f'Erro ao executar instrução {stmt[:80]}...\\n> {err}')\n",
    "\n",
    "# Fechando a base de dados\n",
    "conn.commit()\n",
    "cursor.close()\n",
    "conn.close()\n",
    "\n",
    "\n",
    "print(f' Dump importado com sucesso! ')"
   ]
  },
  {
   "cell_type": "code",
   "execution_count": 3,
   "id": "304b9f70",
   "metadata": {},
   "outputs": [],
   "source": [
    "# Criando a engine do SQLAlchemy para uso posterior\n",
    "engine = create_engine(f\"mysql+mysqlconnector://{user}:{password}@{host}/{db_name}\")"
   ]
  },
  {
   "cell_type": "markdown",
   "id": "07d3ac0b",
   "metadata": {},
   "source": [
    "### Funções"
   ]
  },
  {
   "cell_type": "code",
   "execution_count": 4,
   "id": "05bcab3c",
   "metadata": {},
   "outputs": [],
   "source": [
    "# Função de consulta SQL\n",
    "def sql_df(query):\n",
    "    load_dotenv()\n",
    "    engine = create_engine(\n",
    "        f\"mysql+mysqlconnector://{os.getenv('DB_USER')}:{os.getenv('DB_PASSWORD')}@{os.getenv('DB_HOST')}/{os.getenv('DB_NAME')}\"\n",
    "    )\n",
    "    with engine.connect() as conexao:\n",
    "        resultado = conexao.execute(text(query))\n",
    "        dados = resultado.fetchall()\n",
    "    return pd.DataFrame(dados, columns=resultado.keys())"
   ]
  },
  {
   "cell_type": "markdown",
   "id": "b9e412ad",
   "metadata": {},
   "source": [
    "#### Visualizando as tabelas"
   ]
  },
  {
   "cell_type": "code",
   "execution_count": 5,
   "id": "e51208ab",
   "metadata": {},
   "outputs": [
    {
     "data": {
      "text/html": [
       "<div>\n",
       "<style scoped>\n",
       "    .dataframe tbody tr th:only-of-type {\n",
       "        vertical-align: middle;\n",
       "    }\n",
       "\n",
       "    .dataframe tbody tr th {\n",
       "        vertical-align: top;\n",
       "    }\n",
       "\n",
       "    .dataframe thead th {\n",
       "        text-align: right;\n",
       "    }\n",
       "</style>\n",
       "<table border=\"1\" class=\"dataframe\">\n",
       "  <thead>\n",
       "    <tr style=\"text-align: right;\">\n",
       "      <th></th>\n",
       "      <th>Tables_in_ecommerce</th>\n",
       "    </tr>\n",
       "  </thead>\n",
       "  <tbody>\n",
       "    <tr>\n",
       "      <th>0</th>\n",
       "      <td>itens_pedido</td>\n",
       "    </tr>\n",
       "    <tr>\n",
       "      <th>1</th>\n",
       "      <td>pedido</td>\n",
       "    </tr>\n",
       "    <tr>\n",
       "      <th>2</th>\n",
       "      <td>produto</td>\n",
       "    </tr>\n",
       "    <tr>\n",
       "      <th>3</th>\n",
       "      <td>vendedores</td>\n",
       "    </tr>\n",
       "  </tbody>\n",
       "</table>\n",
       "</div>"
      ],
      "text/plain": [
       "  Tables_in_ecommerce\n",
       "0        itens_pedido\n",
       "1              pedido\n",
       "2             produto\n",
       "3          vendedores"
      ]
     },
     "execution_count": 5,
     "metadata": {},
     "output_type": "execute_result"
    }
   ],
   "source": [
    "# Tabelas disponíveis\n",
    "query = \"SHOW TABLES\"\n",
    "sql_df(query)"
   ]
  },
  {
   "cell_type": "code",
   "execution_count": 6,
   "id": "0b47d652",
   "metadata": {},
   "outputs": [
    {
     "data": {
      "text/html": [
       "<div>\n",
       "<style scoped>\n",
       "    .dataframe tbody tr th:only-of-type {\n",
       "        vertical-align: middle;\n",
       "    }\n",
       "\n",
       "    .dataframe tbody tr th {\n",
       "        vertical-align: top;\n",
       "    }\n",
       "\n",
       "    .dataframe thead th {\n",
       "        text-align: right;\n",
       "    }\n",
       "</style>\n",
       "<table border=\"1\" class=\"dataframe\">\n",
       "  <thead>\n",
       "    <tr style=\"text-align: right;\">\n",
       "      <th></th>\n",
       "      <th>produto_id</th>\n",
       "      <th>pedido_id</th>\n",
       "      <th>quantidade</th>\n",
       "      <th>valor_unitario</th>\n",
       "      <th>valor_total</th>\n",
       "      <th>estado</th>\n",
       "      <th>frete</th>\n",
       "      <th>id_nf</th>\n",
       "    </tr>\n",
       "  </thead>\n",
       "  <tbody>\n",
       "    <tr>\n",
       "      <th>0</th>\n",
       "      <td>41518</td>\n",
       "      <td>341.0</td>\n",
       "      <td>3.0</td>\n",
       "      <td>260.00</td>\n",
       "      <td>780.00</td>\n",
       "      <td>BR-BA</td>\n",
       "      <td>156.00</td>\n",
       "      <td>1.0</td>\n",
       "    </tr>\n",
       "    <tr>\n",
       "      <th>1</th>\n",
       "      <td>4307</td>\n",
       "      <td>1174.0</td>\n",
       "      <td>5.0</td>\n",
       "      <td>6175.00</td>\n",
       "      <td>30875.00</td>\n",
       "      <td>BR-RJ</td>\n",
       "      <td>6175.00</td>\n",
       "      <td>2.0</td>\n",
       "    </tr>\n",
       "    <tr>\n",
       "      <th>2</th>\n",
       "      <td>22407</td>\n",
       "      <td>1399.0</td>\n",
       "      <td>3.0</td>\n",
       "      <td>200.00</td>\n",
       "      <td>600.00</td>\n",
       "      <td>BR-PB</td>\n",
       "      <td>120.00</td>\n",
       "      <td>3.0</td>\n",
       "    </tr>\n",
       "    <tr>\n",
       "      <th>3</th>\n",
       "      <td>3820</td>\n",
       "      <td>1652.0</td>\n",
       "      <td>6.0</td>\n",
       "      <td>139.00</td>\n",
       "      <td>834.00</td>\n",
       "      <td>BR-DF</td>\n",
       "      <td>1668.00</td>\n",
       "      <td>4.0</td>\n",
       "    </tr>\n",
       "    <tr>\n",
       "      <th>4</th>\n",
       "      <td>29012</td>\n",
       "      <td>2470.0</td>\n",
       "      <td>3.0</td>\n",
       "      <td>525.00</td>\n",
       "      <td>1575.00</td>\n",
       "      <td>BR-BA</td>\n",
       "      <td>315.00</td>\n",
       "      <td>5.0</td>\n",
       "    </tr>\n",
       "    <tr>\n",
       "      <th>...</th>\n",
       "      <td>...</td>\n",
       "      <td>...</td>\n",
       "      <td>...</td>\n",
       "      <td>...</td>\n",
       "      <td>...</td>\n",
       "      <td>...</td>\n",
       "      <td>...</td>\n",
       "      <td>...</td>\n",
       "    </tr>\n",
       "    <tr>\n",
       "      <th>25052</th>\n",
       "      <td>100</td>\n",
       "      <td>64594.0</td>\n",
       "      <td>5.0</td>\n",
       "      <td>3900.00</td>\n",
       "      <td>19500.00</td>\n",
       "      <td>BR-RO</td>\n",
       "      <td>3900.00</td>\n",
       "      <td>25053.0</td>\n",
       "    </tr>\n",
       "    <tr>\n",
       "      <th>25053</th>\n",
       "      <td>3</td>\n",
       "      <td>64811.0</td>\n",
       "      <td>3.0</td>\n",
       "      <td>139.00</td>\n",
       "      <td>417.00</td>\n",
       "      <td>BR-MA</td>\n",
       "      <td>834.00</td>\n",
       "      <td>25054.0</td>\n",
       "    </tr>\n",
       "    <tr>\n",
       "      <th>25054</th>\n",
       "      <td>74</td>\n",
       "      <td>65274.0</td>\n",
       "      <td>2.0</td>\n",
       "      <td>130.00</td>\n",
       "      <td>260.00</td>\n",
       "      <td>BR-SE</td>\n",
       "      <td>52.00</td>\n",
       "      <td>25055.0</td>\n",
       "    </tr>\n",
       "    <tr>\n",
       "      <th>25055</th>\n",
       "      <td>74</td>\n",
       "      <td>67862.0</td>\n",
       "      <td>4.0</td>\n",
       "      <td>130.00</td>\n",
       "      <td>520.00</td>\n",
       "      <td>BR-RO</td>\n",
       "      <td>104.00</td>\n",
       "      <td>25056.0</td>\n",
       "    </tr>\n",
       "    <tr>\n",
       "      <th>25056</th>\n",
       "      <td>66</td>\n",
       "      <td>NaN</td>\n",
       "      <td>NaN</td>\n",
       "      <td>399.00</td>\n",
       "      <td>0.00</td>\n",
       "      <td></td>\n",
       "      <td>0.00</td>\n",
       "      <td>NaN</td>\n",
       "    </tr>\n",
       "  </tbody>\n",
       "</table>\n",
       "<p>25057 rows × 8 columns</p>\n",
       "</div>"
      ],
      "text/plain": [
       "       produto_id  pedido_id  quantidade valor_unitario valor_total estado  \\\n",
       "0           41518      341.0         3.0         260.00      780.00  BR-BA   \n",
       "1            4307     1174.0         5.0        6175.00    30875.00  BR-RJ   \n",
       "2           22407     1399.0         3.0         200.00      600.00  BR-PB   \n",
       "3            3820     1652.0         6.0         139.00      834.00  BR-DF   \n",
       "4           29012     2470.0         3.0         525.00     1575.00  BR-BA   \n",
       "...           ...        ...         ...            ...         ...    ...   \n",
       "25052         100    64594.0         5.0        3900.00    19500.00  BR-RO   \n",
       "25053           3    64811.0         3.0         139.00      417.00  BR-MA   \n",
       "25054          74    65274.0         2.0         130.00      260.00  BR-SE   \n",
       "25055          74    67862.0         4.0         130.00      520.00  BR-RO   \n",
       "25056          66        NaN         NaN         399.00        0.00          \n",
       "\n",
       "         frete    id_nf  \n",
       "0       156.00      1.0  \n",
       "1      6175.00      2.0  \n",
       "2       120.00      3.0  \n",
       "3      1668.00      4.0  \n",
       "4       315.00      5.0  \n",
       "...        ...      ...  \n",
       "25052  3900.00  25053.0  \n",
       "25053   834.00  25054.0  \n",
       "25054    52.00  25055.0  \n",
       "25055   104.00  25056.0  \n",
       "25056     0.00      NaN  \n",
       "\n",
       "[25057 rows x 8 columns]"
      ]
     },
     "execution_count": 6,
     "metadata": {},
     "output_type": "execute_result"
    }
   ],
   "source": [
    "# Vendas do e-commerce\n",
    "query = \"SELECT * FROM itens_pedido\"\n",
    "sql_df(query)"
   ]
  },
  {
   "cell_type": "code",
   "execution_count": 7,
   "id": "a4f5c7f2",
   "metadata": {},
   "outputs": [
    {
     "data": {
      "text/html": [
       "<div>\n",
       "<style scoped>\n",
       "    .dataframe tbody tr th:only-of-type {\n",
       "        vertical-align: middle;\n",
       "    }\n",
       "\n",
       "    .dataframe tbody tr th {\n",
       "        vertical-align: top;\n",
       "    }\n",
       "\n",
       "    .dataframe thead th {\n",
       "        text-align: right;\n",
       "    }\n",
       "</style>\n",
       "<table border=\"1\" class=\"dataframe\">\n",
       "  <thead>\n",
       "    <tr style=\"text-align: right;\">\n",
       "      <th></th>\n",
       "      <th>produto_id</th>\n",
       "      <th>produto</th>\n",
       "      <th>preco</th>\n",
       "      <th>marca</th>\n",
       "      <th>sku</th>\n",
       "      <th>condicao</th>\n",
       "    </tr>\n",
       "  </thead>\n",
       "  <tbody>\n",
       "    <tr>\n",
       "      <th>0</th>\n",
       "      <td>2706</td>\n",
       "      <td>Blusa Cinza</td>\n",
       "      <td>590.00</td>\n",
       "      <td>Mixed</td>\n",
       "      <td>297627</td>\n",
       "      <td>Usado</td>\n",
       "    </tr>\n",
       "    <tr>\n",
       "      <th>1</th>\n",
       "      <td>3451</td>\n",
       "      <td>Vestido Ombro Só</td>\n",
       "      <td>250.00</td>\n",
       "      <td>Lemon Cola</td>\n",
       "      <td>295317</td>\n",
       "      <td>Usado</td>\n",
       "    </tr>\n",
       "    <tr>\n",
       "      <th>2</th>\n",
       "      <td>3820</td>\n",
       "      <td>Shorts Jeans Tye Dye</td>\n",
       "      <td>139.00</td>\n",
       "      <td>Lezalez</td>\n",
       "      <td>252560</td>\n",
       "      <td>Usado</td>\n",
       "    </tr>\n",
       "    <tr>\n",
       "      <th>3</th>\n",
       "      <td>3829</td>\n",
       "      <td>Sneaker Monograma Bege</td>\n",
       "      <td>2630.00</td>\n",
       "      <td>Louis Vuitton</td>\n",
       "      <td>256175</td>\n",
       "      <td>Usado</td>\n",
       "    </tr>\n",
       "    <tr>\n",
       "      <th>4</th>\n",
       "      <td>3865</td>\n",
       "      <td>Bolsa Clássica Roxa</td>\n",
       "      <td>6500.00</td>\n",
       "      <td>Christian Dior</td>\n",
       "      <td>165834</td>\n",
       "      <td>Usado</td>\n",
       "    </tr>\n",
       "    <tr>\n",
       "      <th>...</th>\n",
       "      <td>...</td>\n",
       "      <td>...</td>\n",
       "      <td>...</td>\n",
       "      <td>...</td>\n",
       "      <td>...</td>\n",
       "      <td>...</td>\n",
       "    </tr>\n",
       "    <tr>\n",
       "      <th>200</th>\n",
       "      <td>100484</td>\n",
       "      <td>Calça Jeans Pantacourt</td>\n",
       "      <td>320.00</td>\n",
       "      <td>Sacada</td>\n",
       "      <td>279886</td>\n",
       "      <td>Usado</td>\n",
       "    </tr>\n",
       "    <tr>\n",
       "      <th>201</th>\n",
       "      <td>100932</td>\n",
       "      <td>Sapato Cetim Pink</td>\n",
       "      <td>3900.00</td>\n",
       "      <td>Christian Louboutin</td>\n",
       "      <td>304370</td>\n",
       "      <td>Usado</td>\n",
       "    </tr>\n",
       "    <tr>\n",
       "      <th>202</th>\n",
       "      <td>100939</td>\n",
       "      <td>Blusa Suede Caramelo</td>\n",
       "      <td>310.00</td>\n",
       "      <td>Dress&amp;co</td>\n",
       "      <td>227144</td>\n",
       "      <td>Usado</td>\n",
       "    </tr>\n",
       "    <tr>\n",
       "      <th>203</th>\n",
       "      <td>100961</td>\n",
       "      <td>Vestido Preto Renda</td>\n",
       "      <td>480.00</td>\n",
       "      <td>Dress&amp;co</td>\n",
       "      <td>175945</td>\n",
       "      <td>Usado</td>\n",
       "    </tr>\n",
       "    <tr>\n",
       "      <th>204</th>\n",
       "      <td>100983</td>\n",
       "      <td>Blusa Crochê Branca</td>\n",
       "      <td>350.00</td>\n",
       "      <td>Galeria Tricot</td>\n",
       "      <td>222915</td>\n",
       "      <td>Usado</td>\n",
       "    </tr>\n",
       "  </tbody>\n",
       "</table>\n",
       "<p>205 rows × 6 columns</p>\n",
       "</div>"
      ],
      "text/plain": [
       "     produto_id                 produto    preco                marca     sku  \\\n",
       "0          2706             Blusa Cinza   590.00                Mixed  297627   \n",
       "1          3451        Vestido Ombro Só   250.00           Lemon Cola  295317   \n",
       "2          3820    Shorts Jeans Tye Dye   139.00              Lezalez  252560   \n",
       "3          3829  Sneaker Monograma Bege  2630.00        Louis Vuitton  256175   \n",
       "4          3865     Bolsa Clássica Roxa  6500.00       Christian Dior  165834   \n",
       "..          ...                     ...      ...                  ...     ...   \n",
       "200      100484  Calça Jeans Pantacourt   320.00               Sacada  279886   \n",
       "201      100932       Sapato Cetim Pink  3900.00  Christian Louboutin  304370   \n",
       "202      100939    Blusa Suede Caramelo   310.00             Dress&co  227144   \n",
       "203      100961     Vestido Preto Renda   480.00             Dress&co  175945   \n",
       "204      100983     Blusa Crochê Branca   350.00       Galeria Tricot  222915   \n",
       "\n",
       "    condicao  \n",
       "0      Usado  \n",
       "1      Usado  \n",
       "2      Usado  \n",
       "3      Usado  \n",
       "4      Usado  \n",
       "..       ...  \n",
       "200    Usado  \n",
       "201    Usado  \n",
       "202    Usado  \n",
       "203    Usado  \n",
       "204    Usado  \n",
       "\n",
       "[205 rows x 6 columns]"
      ]
     },
     "execution_count": 7,
     "metadata": {},
     "output_type": "execute_result"
    }
   ],
   "source": [
    "# Produtos vendidos pelo e-commerce\n",
    "query = \"SELECT * FROM produto\"\n",
    "sql_df(query)"
   ]
  },
  {
   "cell_type": "code",
   "execution_count": 8,
   "id": "30185604",
   "metadata": {},
   "outputs": [
    {
     "data": {
      "text/html": [
       "<div>\n",
       "<style scoped>\n",
       "    .dataframe tbody tr th:only-of-type {\n",
       "        vertical-align: middle;\n",
       "    }\n",
       "\n",
       "    .dataframe tbody tr th {\n",
       "        vertical-align: top;\n",
       "    }\n",
       "\n",
       "    .dataframe thead th {\n",
       "        text-align: right;\n",
       "    }\n",
       "</style>\n",
       "<table border=\"1\" class=\"dataframe\">\n",
       "  <thead>\n",
       "    <tr style=\"text-align: right;\">\n",
       "      <th></th>\n",
       "      <th>pedido_id</th>\n",
       "      <th>produto_id</th>\n",
       "      <th>vendedor_id</th>\n",
       "      <th>data_compra</th>\n",
       "      <th>total</th>\n",
       "    </tr>\n",
       "  </thead>\n",
       "  <tbody>\n",
       "    <tr>\n",
       "      <th>0</th>\n",
       "      <td>1</td>\n",
       "      <td>5292</td>\n",
       "      <td>2.0</td>\n",
       "      <td>2020-02-16</td>\n",
       "      <td>3456.00</td>\n",
       "    </tr>\n",
       "    <tr>\n",
       "      <th>1</th>\n",
       "      <td>3</td>\n",
       "      <td>29650</td>\n",
       "      <td>3.0</td>\n",
       "      <td>2020-02-01</td>\n",
       "      <td>720.00</td>\n",
       "    </tr>\n",
       "    <tr>\n",
       "      <th>2</th>\n",
       "      <td>9</td>\n",
       "      <td>18751</td>\n",
       "      <td>5.0</td>\n",
       "      <td>2021-02-04</td>\n",
       "      <td>5940.00</td>\n",
       "    </tr>\n",
       "    <tr>\n",
       "      <th>3</th>\n",
       "      <td>11</td>\n",
       "      <td>7871</td>\n",
       "      <td>3.0</td>\n",
       "      <td>2019-12-01</td>\n",
       "      <td>2520.00</td>\n",
       "    </tr>\n",
       "    <tr>\n",
       "      <th>4</th>\n",
       "      <td>21</td>\n",
       "      <td>2706</td>\n",
       "      <td>3.0</td>\n",
       "      <td>2020-01-03</td>\n",
       "      <td>2950.00</td>\n",
       "    </tr>\n",
       "    <tr>\n",
       "      <th>...</th>\n",
       "      <td>...</td>\n",
       "      <td>...</td>\n",
       "      <td>...</td>\n",
       "      <td>...</td>\n",
       "      <td>...</td>\n",
       "    </tr>\n",
       "    <tr>\n",
       "      <th>25051</th>\n",
       "      <td>139961</td>\n",
       "      <td>27546</td>\n",
       "      <td>4.0</td>\n",
       "      <td>2020-10-25</td>\n",
       "      <td>336.00</td>\n",
       "    </tr>\n",
       "    <tr>\n",
       "      <th>25052</th>\n",
       "      <td>139962</td>\n",
       "      <td>20029</td>\n",
       "      <td>3.0</td>\n",
       "      <td>2019-11-27</td>\n",
       "      <td>1176.00</td>\n",
       "    </tr>\n",
       "    <tr>\n",
       "      <th>25053</th>\n",
       "      <td>139964</td>\n",
       "      <td>25562</td>\n",
       "      <td>5.0</td>\n",
       "      <td>2020-01-22</td>\n",
       "      <td>640.00</td>\n",
       "    </tr>\n",
       "    <tr>\n",
       "      <th>25054</th>\n",
       "      <td>139980</td>\n",
       "      <td>48872</td>\n",
       "      <td>4.0</td>\n",
       "      <td>2020-04-18</td>\n",
       "      <td>120.00</td>\n",
       "    </tr>\n",
       "    <tr>\n",
       "      <th>25055</th>\n",
       "      <td>139993</td>\n",
       "      <td>66539</td>\n",
       "      <td>4.0</td>\n",
       "      <td>2019-05-28</td>\n",
       "      <td>798.00</td>\n",
       "    </tr>\n",
       "  </tbody>\n",
       "</table>\n",
       "<p>25056 rows × 5 columns</p>\n",
       "</div>"
      ],
      "text/plain": [
       "       pedido_id  produto_id  vendedor_id data_compra    total\n",
       "0              1        5292          2.0  2020-02-16  3456.00\n",
       "1              3       29650          3.0  2020-02-01   720.00\n",
       "2              9       18751          5.0  2021-02-04  5940.00\n",
       "3             11        7871          3.0  2019-12-01  2520.00\n",
       "4             21        2706          3.0  2020-01-03  2950.00\n",
       "...          ...         ...          ...         ...      ...\n",
       "25051     139961       27546          4.0  2020-10-25   336.00\n",
       "25052     139962       20029          3.0  2019-11-27  1176.00\n",
       "25053     139964       25562          5.0  2020-01-22   640.00\n",
       "25054     139980       48872          4.0  2020-04-18   120.00\n",
       "25055     139993       66539          4.0  2019-05-28   798.00\n",
       "\n",
       "[25056 rows x 5 columns]"
      ]
     },
     "execution_count": 8,
     "metadata": {},
     "output_type": "execute_result"
    }
   ],
   "source": [
    "# Pedidos do e-commerce\n",
    "query = \"SELECT * FROM pedido\"\n",
    "sql_df(query)"
   ]
  },
  {
   "cell_type": "markdown",
   "id": "a68a4928",
   "metadata": {},
   "source": [
    "Nesta tabela em questão, podemos ver que há um campo para o identificador do vendedor, porém, não há uma tabela de vendedores. \n",
    "\n",
    "Vamos ver quantos são o criaremos na base de dados:"
   ]
  },
  {
   "cell_type": "code",
   "execution_count": 9,
   "id": "80c98faa",
   "metadata": {},
   "outputs": [
    {
     "data": {
      "text/html": [
       "<div>\n",
       "<style scoped>\n",
       "    .dataframe tbody tr th:only-of-type {\n",
       "        vertical-align: middle;\n",
       "    }\n",
       "\n",
       "    .dataframe tbody tr th {\n",
       "        vertical-align: top;\n",
       "    }\n",
       "\n",
       "    .dataframe thead th {\n",
       "        text-align: right;\n",
       "    }\n",
       "</style>\n",
       "<table border=\"1\" class=\"dataframe\">\n",
       "  <thead>\n",
       "    <tr style=\"text-align: right;\">\n",
       "      <th></th>\n",
       "      <th>VENDEDOR_ID</th>\n",
       "      <th>Quantidade de Vendas</th>\n",
       "    </tr>\n",
       "  </thead>\n",
       "  <tbody>\n",
       "    <tr>\n",
       "      <th>0</th>\n",
       "      <td>2.0</td>\n",
       "      <td>5032</td>\n",
       "    </tr>\n",
       "    <tr>\n",
       "      <th>1</th>\n",
       "      <td>3.0</td>\n",
       "      <td>4840</td>\n",
       "    </tr>\n",
       "    <tr>\n",
       "      <th>2</th>\n",
       "      <td>5.0</td>\n",
       "      <td>5283</td>\n",
       "    </tr>\n",
       "    <tr>\n",
       "      <th>3</th>\n",
       "      <td>NaN</td>\n",
       "      <td>529</td>\n",
       "    </tr>\n",
       "    <tr>\n",
       "      <th>4</th>\n",
       "      <td>1.0</td>\n",
       "      <td>5167</td>\n",
       "    </tr>\n",
       "    <tr>\n",
       "      <th>5</th>\n",
       "      <td>4.0</td>\n",
       "      <td>4205</td>\n",
       "    </tr>\n",
       "  </tbody>\n",
       "</table>\n",
       "</div>"
      ],
      "text/plain": [
       "   VENDEDOR_ID  Quantidade de Vendas\n",
       "0          2.0                  5032\n",
       "1          3.0                  4840\n",
       "2          5.0                  5283\n",
       "3          NaN                   529\n",
       "4          1.0                  5167\n",
       "5          4.0                  4205"
      ]
     },
     "execution_count": 9,
     "metadata": {},
     "output_type": "execute_result"
    }
   ],
   "source": [
    "query = '''\n",
    "SELECT VENDEDOR_ID, COUNT(*) AS 'Quantidade de Vendas'\n",
    "FROM PEDIDO\n",
    "GROUP BY VENDEDOR_ID\n",
    "'''\n",
    "sql_df(query)"
   ]
  },
  {
   "cell_type": "markdown",
   "id": "fdce9bea",
   "metadata": {},
   "source": [
    "Ao total temos 5 vendedores e 1 soma de vendas não identificadas, vamos ajustar os valores nulos para Não Identificado e criar uma tabela vendedores com todos os valores."
   ]
  },
  {
   "cell_type": "code",
   "execution_count": 10,
   "id": "ccced814",
   "metadata": {},
   "outputs": [
    {
     "name": "stderr",
     "output_type": "stream",
     "text": [
      "C:\\Users\\pedro\\AppData\\Roaming\\Python\\Python37\\site-packages\\ipykernel_launcher.py:10: RemovedIn20Warning: Deprecated API features detected! These feature(s) are not compatible with SQLAlchemy 2.0. To prevent incompatible upgrades prior to updating applications, ensure requirements files are pinned to \"sqlalchemy<2.0\". Set environment variable SQLALCHEMY_WARN_20=1 to show all deprecation warnings.  Set environment variable SQLALCHEMY_SILENCE_UBER_WARNING=1 to silence this message. (Background on SQLAlchemy 2.0 at: https://sqlalche.me/e/b8d9)\n",
      "  # Remove the CWD from sys.path while we load stuff.\n"
     ]
    }
   ],
   "source": [
    "# Ajustando o valor\n",
    "query_ajuste = '''\n",
    "UPDATE PEDIDO\n",
    "SET VENDEDOR_ID = 0         /*...Estamos alterando p 0 e depois será Não Identificado...*/\n",
    "WHERE VENDEDOR_ID IS NULL\n",
    "'''\n",
    "\n",
    "#Executando o update\n",
    "with engine.connect() as conexao:\n",
    "    conexao.execute(text(query_ajuste))"
   ]
  },
  {
   "cell_type": "markdown",
   "id": "87558c8e",
   "metadata": {},
   "source": [
    "# ARRUMAR"
   ]
  },
  {
   "cell_type": "code",
   "execution_count": 11,
   "id": "9ab574dc",
   "metadata": {},
   "outputs": [],
   "source": [
    "query_criar_tabela = text('''\n",
    "CREATE TABLE IF NOT EXISTS VENDEDORES (\n",
    "vendedor_id INT PRIMARY KEY,\n",
    "NOME VARCHAR(255)\n",
    ")\n",
    "'''\n",
    ")\n",
    "\n",
    "query_inserçao_vendedores = text('''\n",
    "INSERT IGNORE INTO VENDEDORES (vendedor_id, NOME) VALUES\n",
    "(0, 'Não Identificado'),\n",
    "(1, 'Pedro'),\n",
    "(2, 'Beatriz'),\n",
    "(3, 'Raul'),\n",
    "(4, 'Amanda'),\n",
    "(5, 'Gabriela')\n",
    "'''\n",
    ")\n",
    "\n",
    "#Executando ambas\n",
    "with engine.begin() as conexao:\n",
    "    conexao.execute(query_criar_tabela)\n",
    "    conexao.execute(query_inserçao_vendedores)"
   ]
  },
  {
   "cell_type": "code",
   "execution_count": 12,
   "id": "f28303b2",
   "metadata": {},
   "outputs": [
    {
     "data": {
      "text/html": [
       "<div>\n",
       "<style scoped>\n",
       "    .dataframe tbody tr th:only-of-type {\n",
       "        vertical-align: middle;\n",
       "    }\n",
       "\n",
       "    .dataframe tbody tr th {\n",
       "        vertical-align: top;\n",
       "    }\n",
       "\n",
       "    .dataframe thead th {\n",
       "        text-align: right;\n",
       "    }\n",
       "</style>\n",
       "<table border=\"1\" class=\"dataframe\">\n",
       "  <thead>\n",
       "    <tr style=\"text-align: right;\">\n",
       "      <th></th>\n",
       "      <th>vendedor_id</th>\n",
       "      <th>NOME</th>\n",
       "    </tr>\n",
       "  </thead>\n",
       "  <tbody>\n",
       "    <tr>\n",
       "      <th>0</th>\n",
       "      <td>0</td>\n",
       "      <td>Não Identificado</td>\n",
       "    </tr>\n",
       "    <tr>\n",
       "      <th>1</th>\n",
       "      <td>1</td>\n",
       "      <td>Pedro</td>\n",
       "    </tr>\n",
       "    <tr>\n",
       "      <th>2</th>\n",
       "      <td>2</td>\n",
       "      <td>Beatriz</td>\n",
       "    </tr>\n",
       "    <tr>\n",
       "      <th>3</th>\n",
       "      <td>3</td>\n",
       "      <td>Raul</td>\n",
       "    </tr>\n",
       "    <tr>\n",
       "      <th>4</th>\n",
       "      <td>4</td>\n",
       "      <td>Amanda</td>\n",
       "    </tr>\n",
       "    <tr>\n",
       "      <th>...</th>\n",
       "      <td>...</td>\n",
       "      <td>...</td>\n",
       "    </tr>\n",
       "    <tr>\n",
       "      <th>73</th>\n",
       "      <td>1</td>\n",
       "      <td>Pedro</td>\n",
       "    </tr>\n",
       "    <tr>\n",
       "      <th>74</th>\n",
       "      <td>2</td>\n",
       "      <td>Beatriz</td>\n",
       "    </tr>\n",
       "    <tr>\n",
       "      <th>75</th>\n",
       "      <td>3</td>\n",
       "      <td>Raul</td>\n",
       "    </tr>\n",
       "    <tr>\n",
       "      <th>76</th>\n",
       "      <td>4</td>\n",
       "      <td>Amanda</td>\n",
       "    </tr>\n",
       "    <tr>\n",
       "      <th>77</th>\n",
       "      <td>5</td>\n",
       "      <td>Gabriela</td>\n",
       "    </tr>\n",
       "  </tbody>\n",
       "</table>\n",
       "<p>78 rows × 2 columns</p>\n",
       "</div>"
      ],
      "text/plain": [
       "    vendedor_id              NOME\n",
       "0             0  Não Identificado\n",
       "1             1             Pedro\n",
       "2             2           Beatriz\n",
       "3             3              Raul\n",
       "4             4            Amanda\n",
       "..          ...               ...\n",
       "73            1             Pedro\n",
       "74            2           Beatriz\n",
       "75            3              Raul\n",
       "76            4            Amanda\n",
       "77            5          Gabriela\n",
       "\n",
       "[78 rows x 2 columns]"
      ]
     },
     "execution_count": 12,
     "metadata": {},
     "output_type": "execute_result"
    }
   ],
   "source": [
    "query = \"SELECT * FROM VENDEDORES\"\n",
    "sql_df(query)"
   ]
  },
  {
   "cell_type": "markdown",
   "id": "96c6e9de",
   "metadata": {},
   "source": [
    "#### Bases de dados inseridas e vistas, vamos agora entender cada uma de suas variáveis:\n",
    "*Obs: Campos marcados com * são chaves utilizadas para relacionar tabelas entre si.*\n",
    "\n",
    "- **Itens_pedido (Tabela Fato - Detalhamento de cada pedido, valores, fretes, estado, etc)**\n",
    "    - **produto_id*** - Identificador do produto; chave utilizada para relacionarmos com a tabela **Produto**\n",
    "    - **pedido_id*** - Identificador do pedido; chave utilizada para relacionarmos com a tabela **Pedido**\n",
    "    - **quantidade** - Quantidade de pedidos;\n",
    "    - **valor_unitario** - Valor por unidade do pedido;\n",
    "    - **valor_total** - Valor total do pedido;\n",
    "    - **estado** - Estado para onde o pedido foi enviado;\n",
    "    - **frete** - Valor do frete cobrado para o envio do produto;\n",
    "    - **id_nf** - Identificador da nota fiscal do pedido.\n",
    "\n",
    "- **Produto (Tabela Dimensão - Descrição do produto, marca, condições, etc)**\n",
    "    - **produto_id*** - Identificador do produto; chave utilizada para relacionarmos com as tabelas **Itens_pedido** e **Pedido**\n",
    "    - **produto** - Nome do produto;\n",
    "    - **preço** - Preço do produto;\n",
    "    - **marca** - Marca do prodto;\n",
    "    - **sku** - Identificador do produto no estoque;\n",
    "    - **condicao** - Condição do produto;\n",
    "\n",
    "- **Pedido (Tabela Dimensão - Caso híbrido, mas trataremos a estrutura como uma dimensão auxiliar já que contém a data e o vínculo com vendedores e produtos)**\n",
    "    - **pedido_id** - Identificador do pedido;\n",
    "    - **produto_id*** - Identificador do produto; chave utilizada para relacionarmos com a tabela **Produto**\n",
    "    - **vendedor_id*** - Identificador do vendedor; chave utilizada para relacionarmos com a tabela **Vendedores**\n",
    "    - **data_compra** - Data em que a compra foi realizada;\n",
    "    - **total** - Valor total da compra.\n",
    "\n",
    "- **Vendedores (Tabela Dimensão - Dados descritivos dos vendedores)**\n",
    "    - **vendedor_id*** - Identificador do vendedor; chave utilizada para relacionarmos com a tabela **Pedido**\n",
    "    - **nome** - Nome do vendedor."
   ]
  },
  {
   "cell_type": "markdown",
   "id": "3a1d7a73",
   "metadata": {},
   "source": [
    "### Tratamento de dados"
   ]
  },
  {
   "cell_type": "markdown",
   "id": "62218720",
   "metadata": {},
   "source": [
    "#### Dados nulos, vazios ou duplicados"
   ]
  },
  {
   "cell_type": "code",
   "execution_count": 13,
   "id": "72593b74",
   "metadata": {},
   "outputs": [
    {
     "name": "stdout",
     "output_type": "stream",
     "text": [
      "Tabela: ITENS_PEDIDO\n"
     ]
    },
    {
     "data": {
      "text/html": [
       "<div>\n",
       "<style scoped>\n",
       "    .dataframe tbody tr th:only-of-type {\n",
       "        vertical-align: middle;\n",
       "    }\n",
       "\n",
       "    .dataframe tbody tr th {\n",
       "        vertical-align: top;\n",
       "    }\n",
       "\n",
       "    .dataframe thead th {\n",
       "        text-align: right;\n",
       "    }\n",
       "</style>\n",
       "<table border=\"1\" class=\"dataframe\">\n",
       "  <thead>\n",
       "    <tr style=\"text-align: right;\">\n",
       "      <th></th>\n",
       "      <th>Coluna</th>\n",
       "      <th>Qtd. Nulos</th>\n",
       "      <th>Qtd. Vazios</th>\n",
       "      <th>Qtd. Duplicados</th>\n",
       "    </tr>\n",
       "  </thead>\n",
       "  <tbody>\n",
       "    <tr>\n",
       "      <th>0</th>\n",
       "      <td>produto_id</td>\n",
       "      <td>0</td>\n",
       "      <td>0</td>\n",
       "      <td>24795</td>\n",
       "    </tr>\n",
       "    <tr>\n",
       "      <th>1</th>\n",
       "      <td>pedido_id</td>\n",
       "      <td>1</td>\n",
       "      <td>0</td>\n",
       "      <td>0</td>\n",
       "    </tr>\n",
       "    <tr>\n",
       "      <th>2</th>\n",
       "      <td>quantidade</td>\n",
       "      <td>1</td>\n",
       "      <td>0</td>\n",
       "      <td>25050</td>\n",
       "    </tr>\n",
       "    <tr>\n",
       "      <th>3</th>\n",
       "      <td>valor_unitario</td>\n",
       "      <td>0</td>\n",
       "      <td>0</td>\n",
       "      <td>24972</td>\n",
       "    </tr>\n",
       "    <tr>\n",
       "      <th>4</th>\n",
       "      <td>valor_total</td>\n",
       "      <td>0</td>\n",
       "      <td>0</td>\n",
       "      <td>24702</td>\n",
       "    </tr>\n",
       "    <tr>\n",
       "      <th>5</th>\n",
       "      <td>estado</td>\n",
       "      <td>0</td>\n",
       "      <td>1</td>\n",
       "      <td>25029</td>\n",
       "    </tr>\n",
       "    <tr>\n",
       "      <th>6</th>\n",
       "      <td>frete</td>\n",
       "      <td>0</td>\n",
       "      <td>0</td>\n",
       "      <td>24705</td>\n",
       "    </tr>\n",
       "    <tr>\n",
       "      <th>7</th>\n",
       "      <td>id_nf</td>\n",
       "      <td>1</td>\n",
       "      <td>0</td>\n",
       "      <td>0</td>\n",
       "    </tr>\n",
       "  </tbody>\n",
       "</table>\n",
       "</div>"
      ],
      "text/plain": [
       "           Coluna  Qtd. Nulos  Qtd. Vazios  Qtd. Duplicados\n",
       "0      produto_id           0            0            24795\n",
       "1       pedido_id           1            0                0\n",
       "2      quantidade           1            0            25050\n",
       "3  valor_unitario           0            0            24972\n",
       "4     valor_total           0            0            24702\n",
       "5          estado           0            1            25029\n",
       "6           frete           0            0            24705\n",
       "7           id_nf           1            0                0"
      ]
     },
     "metadata": {},
     "output_type": "display_data"
    },
    {
     "name": "stdout",
     "output_type": "stream",
     "text": [
      "Tabela: PRODUTO\n"
     ]
    },
    {
     "data": {
      "text/html": [
       "<div>\n",
       "<style scoped>\n",
       "    .dataframe tbody tr th:only-of-type {\n",
       "        vertical-align: middle;\n",
       "    }\n",
       "\n",
       "    .dataframe tbody tr th {\n",
       "        vertical-align: top;\n",
       "    }\n",
       "\n",
       "    .dataframe thead th {\n",
       "        text-align: right;\n",
       "    }\n",
       "</style>\n",
       "<table border=\"1\" class=\"dataframe\">\n",
       "  <thead>\n",
       "    <tr style=\"text-align: right;\">\n",
       "      <th></th>\n",
       "      <th>Coluna</th>\n",
       "      <th>Qtd. Nulos</th>\n",
       "      <th>Qtd. Vazios</th>\n",
       "      <th>Qtd. Duplicados</th>\n",
       "    </tr>\n",
       "  </thead>\n",
       "  <tbody>\n",
       "    <tr>\n",
       "      <th>0</th>\n",
       "      <td>produto_id</td>\n",
       "      <td>0</td>\n",
       "      <td>0</td>\n",
       "      <td>0</td>\n",
       "    </tr>\n",
       "    <tr>\n",
       "      <th>1</th>\n",
       "      <td>produto</td>\n",
       "      <td>0</td>\n",
       "      <td>0</td>\n",
       "      <td>4</td>\n",
       "    </tr>\n",
       "    <tr>\n",
       "      <th>2</th>\n",
       "      <td>preco</td>\n",
       "      <td>0</td>\n",
       "      <td>0</td>\n",
       "      <td>120</td>\n",
       "    </tr>\n",
       "    <tr>\n",
       "      <th>3</th>\n",
       "      <td>marca</td>\n",
       "      <td>0</td>\n",
       "      <td>0</td>\n",
       "      <td>88</td>\n",
       "    </tr>\n",
       "    <tr>\n",
       "      <th>4</th>\n",
       "      <td>sku</td>\n",
       "      <td>0</td>\n",
       "      <td>0</td>\n",
       "      <td>0</td>\n",
       "    </tr>\n",
       "    <tr>\n",
       "      <th>5</th>\n",
       "      <td>condicao</td>\n",
       "      <td>0</td>\n",
       "      <td>0</td>\n",
       "      <td>202</td>\n",
       "    </tr>\n",
       "  </tbody>\n",
       "</table>\n",
       "</div>"
      ],
      "text/plain": [
       "       Coluna  Qtd. Nulos  Qtd. Vazios  Qtd. Duplicados\n",
       "0  produto_id           0            0                0\n",
       "1     produto           0            0                4\n",
       "2       preco           0            0              120\n",
       "3       marca           0            0               88\n",
       "4         sku           0            0                0\n",
       "5    condicao           0            0              202"
      ]
     },
     "metadata": {},
     "output_type": "display_data"
    },
    {
     "name": "stdout",
     "output_type": "stream",
     "text": [
      "Tabela: PEDIDO\n"
     ]
    },
    {
     "data": {
      "text/html": [
       "<div>\n",
       "<style scoped>\n",
       "    .dataframe tbody tr th:only-of-type {\n",
       "        vertical-align: middle;\n",
       "    }\n",
       "\n",
       "    .dataframe tbody tr th {\n",
       "        vertical-align: top;\n",
       "    }\n",
       "\n",
       "    .dataframe thead th {\n",
       "        text-align: right;\n",
       "    }\n",
       "</style>\n",
       "<table border=\"1\" class=\"dataframe\">\n",
       "  <thead>\n",
       "    <tr style=\"text-align: right;\">\n",
       "      <th></th>\n",
       "      <th>Coluna</th>\n",
       "      <th>Qtd. Nulos</th>\n",
       "      <th>Qtd. Vazios</th>\n",
       "      <th>Qtd. Duplicados</th>\n",
       "    </tr>\n",
       "  </thead>\n",
       "  <tbody>\n",
       "    <tr>\n",
       "      <th>0</th>\n",
       "      <td>pedido_id</td>\n",
       "      <td>0</td>\n",
       "      <td>0</td>\n",
       "      <td>0</td>\n",
       "    </tr>\n",
       "    <tr>\n",
       "      <th>1</th>\n",
       "      <td>produto_id</td>\n",
       "      <td>0</td>\n",
       "      <td>0</td>\n",
       "      <td>24794</td>\n",
       "    </tr>\n",
       "    <tr>\n",
       "      <th>2</th>\n",
       "      <td>vendedor_id</td>\n",
       "      <td>0</td>\n",
       "      <td>0</td>\n",
       "      <td>25050</td>\n",
       "    </tr>\n",
       "    <tr>\n",
       "      <th>3</th>\n",
       "      <td>data_compra</td>\n",
       "      <td>0</td>\n",
       "      <td>0</td>\n",
       "      <td>24276</td>\n",
       "    </tr>\n",
       "    <tr>\n",
       "      <th>4</th>\n",
       "      <td>total</td>\n",
       "      <td>0</td>\n",
       "      <td>0</td>\n",
       "      <td>24702</td>\n",
       "    </tr>\n",
       "  </tbody>\n",
       "</table>\n",
       "</div>"
      ],
      "text/plain": [
       "        Coluna  Qtd. Nulos  Qtd. Vazios  Qtd. Duplicados\n",
       "0    pedido_id           0            0                0\n",
       "1   produto_id           0            0            24794\n",
       "2  vendedor_id           0            0            25050\n",
       "3  data_compra           0            0            24276\n",
       "4        total           0            0            24702"
      ]
     },
     "metadata": {},
     "output_type": "display_data"
    },
    {
     "name": "stdout",
     "output_type": "stream",
     "text": [
      "Tabela: VENDEDORES\n"
     ]
    },
    {
     "data": {
      "text/html": [
       "<div>\n",
       "<style scoped>\n",
       "    .dataframe tbody tr th:only-of-type {\n",
       "        vertical-align: middle;\n",
       "    }\n",
       "\n",
       "    .dataframe tbody tr th {\n",
       "        vertical-align: top;\n",
       "    }\n",
       "\n",
       "    .dataframe thead th {\n",
       "        text-align: right;\n",
       "    }\n",
       "</style>\n",
       "<table border=\"1\" class=\"dataframe\">\n",
       "  <thead>\n",
       "    <tr style=\"text-align: right;\">\n",
       "      <th></th>\n",
       "      <th>Coluna</th>\n",
       "      <th>Qtd. Nulos</th>\n",
       "      <th>Qtd. Vazios</th>\n",
       "      <th>Qtd. Duplicados</th>\n",
       "    </tr>\n",
       "  </thead>\n",
       "  <tbody>\n",
       "    <tr>\n",
       "      <th>0</th>\n",
       "      <td>vendedor_id</td>\n",
       "      <td>0</td>\n",
       "      <td>0</td>\n",
       "      <td>72</td>\n",
       "    </tr>\n",
       "    <tr>\n",
       "      <th>1</th>\n",
       "      <td>NOME</td>\n",
       "      <td>0</td>\n",
       "      <td>0</td>\n",
       "      <td>72</td>\n",
       "    </tr>\n",
       "  </tbody>\n",
       "</table>\n",
       "</div>"
      ],
      "text/plain": [
       "        Coluna  Qtd. Nulos  Qtd. Vazios  Qtd. Duplicados\n",
       "0  vendedor_id           0            0               72\n",
       "1         NOME           0            0               72"
      ]
     },
     "metadata": {},
     "output_type": "display_data"
    }
   ],
   "source": [
    "# Conferindo os dados nulos das colunas em cada tabela para tratamento\n",
    "\n",
    "for tabela in ['ITENS_PEDIDO', 'PRODUTO', 'PEDIDO', 'VENDEDORES']:\n",
    "    print(f\"Tabela: {tabela}\")\n",
    "    df = sql_df(f\"SELECT * FROM {tabela}\")\n",
    "\n",
    "    resumo = []\n",
    "    for col in df.columns:\n",
    "        nulos = df[col].isna().sum()\n",
    "        vazios = (df[col] == \"\").sum()\n",
    "        duplicados = df[col].duplicated().sum()\n",
    "        resumo.append([col, nulos, vazios, duplicados])\n",
    "\n",
    "    df_resumo = pd.DataFrame(resumo, columns=['Coluna', 'Qtd. Nulos', 'Qtd. Vazios', 'Qtd. Duplicados'])\n",
    "    display(df_resumo)"
   ]
  },
  {
   "cell_type": "markdown",
   "id": "dd4738fb",
   "metadata": {},
   "source": [
    "#### Conclusões\n",
    "- **Dados nulos**: trataremos os valores nulos por coluna e tabela;\n",
    "- **Dados vazios**: temos apenas 1 entrada vazia na coluna \"Estado\" que será dropada da tabela \"Itens_pedido\";\n",
    "- **Dados duplicados**: temos diversos duplicados, porém, onde esses dados não interferem em nossa análise, visto que eles vêm dos produtos vendidos, marcas, condições, etc. O importante nessa situação é o \"pedido_id\", \"id_nf\" e \"produto_id\" da tabela **Produto** e, nestes não há nenhum duplicado.\n"
   ]
  },
  {
   "cell_type": "code",
   "execution_count": 14,
   "id": "87f760e5",
   "metadata": {},
   "outputs": [],
   "source": [
    "### Dado vazio da coluna \"Estado\" em \"Itens_pedido\"\n",
    "with engine.begin() as conexao:\n",
    "    conexao.execute(text(\"DELETE FROM ITENS_PEDIDO WHERE estado = '';\"))"
   ]
  },
  {
   "cell_type": "code",
   "execution_count": 15,
   "id": "d6d3b2ff",
   "metadata": {},
   "outputs": [],
   "source": [
    "### Dados nulos em \"Itens_pedido\"\n",
    "#Nesse caso, como temos apenas 1 entrada em 3 colunas diferentes em uma tabela que contém 25057 entradas, droparemos as 3 entradas já que a quantidade não afetará nossas análises\n",
    "with engine.begin() as conexao:\n",
    "    conexao.execute(text(\"\"\"\n",
    "        DELETE FROM ITENS_PEDIDO\n",
    "        WHERE pedido_id IS NULL OR quantidade IS NULL OR id_nf IS NULL;\n",
    "        \"\"\"\n",
    "    ))"
   ]
  },
  {
   "cell_type": "code",
   "execution_count": 16,
   "metadata": {},
   "outputs": [],
   "source": [
    "### Dados nulos em \"Pedido\"\n",
    "# Parecido com o que fizemos mais para acima, vamos alterar os dados nulos para \"0\". Estes 0's serão as vendas dos vendedores não identificados, alteração já feita na tabela Vendedores.\n",
    "with engine.begin() as conexao:\n",
    "    conexao.execute(text(\"\"\"\n",
    "        UPDATE PEDIDO\n",
    "        SET vendedor_id = 0\n",
    "        WHERE vendedor_id IS NULL;\n",
    "        \"\"\"\n",
    "    ))"
   ]
  },
  {
   "cell_type": "markdown",
   "id": "d47b7daa",
   "metadata": {},
   "source": [
    "#### Conferindo se os dados foram tratados corretamente"
   ]
  },
  {
   "cell_type": "code",
   "execution_count": 17,
   "id": "9613c464",
   "metadata": {},
   "outputs": [
    {
     "name": "stdout",
     "output_type": "stream",
     "text": [
      "Tabela: ITENS_PEDIDO\n"
     ]
    },
    {
     "data": {
      "text/html": [
       "<div>\n",
       "<style scoped>\n",
       "    .dataframe tbody tr th:only-of-type {\n",
       "        vertical-align: middle;\n",
       "    }\n",
       "\n",
       "    .dataframe tbody tr th {\n",
       "        vertical-align: top;\n",
       "    }\n",
       "\n",
       "    .dataframe thead th {\n",
       "        text-align: right;\n",
       "    }\n",
       "</style>\n",
       "<table border=\"1\" class=\"dataframe\">\n",
       "  <thead>\n",
       "    <tr style=\"text-align: right;\">\n",
       "      <th></th>\n",
       "      <th>Coluna</th>\n",
       "      <th>Qtd. Nulos</th>\n",
       "      <th>Qtd. Vazios</th>\n",
       "      <th>Qtd. Duplicados</th>\n",
       "    </tr>\n",
       "  </thead>\n",
       "  <tbody>\n",
       "    <tr>\n",
       "      <th>0</th>\n",
       "      <td>produto_id</td>\n",
       "      <td>0</td>\n",
       "      <td>0</td>\n",
       "      <td>24794</td>\n",
       "    </tr>\n",
       "    <tr>\n",
       "      <th>1</th>\n",
       "      <td>pedido_id</td>\n",
       "      <td>0</td>\n",
       "      <td>0</td>\n",
       "      <td>0</td>\n",
       "    </tr>\n",
       "    <tr>\n",
       "      <th>2</th>\n",
       "      <td>quantidade</td>\n",
       "      <td>0</td>\n",
       "      <td>0</td>\n",
       "      <td>25050</td>\n",
       "    </tr>\n",
       "    <tr>\n",
       "      <th>3</th>\n",
       "      <td>valor_unitario</td>\n",
       "      <td>0</td>\n",
       "      <td>0</td>\n",
       "      <td>24971</td>\n",
       "    </tr>\n",
       "    <tr>\n",
       "      <th>4</th>\n",
       "      <td>valor_total</td>\n",
       "      <td>0</td>\n",
       "      <td>0</td>\n",
       "      <td>24702</td>\n",
       "    </tr>\n",
       "    <tr>\n",
       "      <th>5</th>\n",
       "      <td>estado</td>\n",
       "      <td>0</td>\n",
       "      <td>0</td>\n",
       "      <td>25029</td>\n",
       "    </tr>\n",
       "    <tr>\n",
       "      <th>6</th>\n",
       "      <td>frete</td>\n",
       "      <td>0</td>\n",
       "      <td>0</td>\n",
       "      <td>24705</td>\n",
       "    </tr>\n",
       "    <tr>\n",
       "      <th>7</th>\n",
       "      <td>id_nf</td>\n",
       "      <td>0</td>\n",
       "      <td>0</td>\n",
       "      <td>0</td>\n",
       "    </tr>\n",
       "  </tbody>\n",
       "</table>\n",
       "</div>"
      ],
      "text/plain": [
       "           Coluna  Qtd. Nulos  Qtd. Vazios  Qtd. Duplicados\n",
       "0      produto_id           0            0            24794\n",
       "1       pedido_id           0            0                0\n",
       "2      quantidade           0            0            25050\n",
       "3  valor_unitario           0            0            24971\n",
       "4     valor_total           0            0            24702\n",
       "5          estado           0            0            25029\n",
       "6           frete           0            0            24705\n",
       "7           id_nf           0            0                0"
      ]
     },
     "metadata": {},
     "output_type": "display_data"
    },
    {
     "name": "stdout",
     "output_type": "stream",
     "text": [
      "Tabela: PRODUTO\n"
     ]
    },
    {
     "data": {
      "text/html": [
       "<div>\n",
       "<style scoped>\n",
       "    .dataframe tbody tr th:only-of-type {\n",
       "        vertical-align: middle;\n",
       "    }\n",
       "\n",
       "    .dataframe tbody tr th {\n",
       "        vertical-align: top;\n",
       "    }\n",
       "\n",
       "    .dataframe thead th {\n",
       "        text-align: right;\n",
       "    }\n",
       "</style>\n",
       "<table border=\"1\" class=\"dataframe\">\n",
       "  <thead>\n",
       "    <tr style=\"text-align: right;\">\n",
       "      <th></th>\n",
       "      <th>Coluna</th>\n",
       "      <th>Qtd. Nulos</th>\n",
       "      <th>Qtd. Vazios</th>\n",
       "      <th>Qtd. Duplicados</th>\n",
       "    </tr>\n",
       "  </thead>\n",
       "  <tbody>\n",
       "    <tr>\n",
       "      <th>0</th>\n",
       "      <td>produto_id</td>\n",
       "      <td>0</td>\n",
       "      <td>0</td>\n",
       "      <td>0</td>\n",
       "    </tr>\n",
       "    <tr>\n",
       "      <th>1</th>\n",
       "      <td>produto</td>\n",
       "      <td>0</td>\n",
       "      <td>0</td>\n",
       "      <td>4</td>\n",
       "    </tr>\n",
       "    <tr>\n",
       "      <th>2</th>\n",
       "      <td>preco</td>\n",
       "      <td>0</td>\n",
       "      <td>0</td>\n",
       "      <td>120</td>\n",
       "    </tr>\n",
       "    <tr>\n",
       "      <th>3</th>\n",
       "      <td>marca</td>\n",
       "      <td>0</td>\n",
       "      <td>0</td>\n",
       "      <td>88</td>\n",
       "    </tr>\n",
       "    <tr>\n",
       "      <th>4</th>\n",
       "      <td>sku</td>\n",
       "      <td>0</td>\n",
       "      <td>0</td>\n",
       "      <td>0</td>\n",
       "    </tr>\n",
       "    <tr>\n",
       "      <th>5</th>\n",
       "      <td>condicao</td>\n",
       "      <td>0</td>\n",
       "      <td>0</td>\n",
       "      <td>202</td>\n",
       "    </tr>\n",
       "  </tbody>\n",
       "</table>\n",
       "</div>"
      ],
      "text/plain": [
       "       Coluna  Qtd. Nulos  Qtd. Vazios  Qtd. Duplicados\n",
       "0  produto_id           0            0                0\n",
       "1     produto           0            0                4\n",
       "2       preco           0            0              120\n",
       "3       marca           0            0               88\n",
       "4         sku           0            0                0\n",
       "5    condicao           0            0              202"
      ]
     },
     "metadata": {},
     "output_type": "display_data"
    },
    {
     "name": "stdout",
     "output_type": "stream",
     "text": [
      "Tabela: PEDIDO\n"
     ]
    },
    {
     "data": {
      "text/html": [
       "<div>\n",
       "<style scoped>\n",
       "    .dataframe tbody tr th:only-of-type {\n",
       "        vertical-align: middle;\n",
       "    }\n",
       "\n",
       "    .dataframe tbody tr th {\n",
       "        vertical-align: top;\n",
       "    }\n",
       "\n",
       "    .dataframe thead th {\n",
       "        text-align: right;\n",
       "    }\n",
       "</style>\n",
       "<table border=\"1\" class=\"dataframe\">\n",
       "  <thead>\n",
       "    <tr style=\"text-align: right;\">\n",
       "      <th></th>\n",
       "      <th>Coluna</th>\n",
       "      <th>Qtd. Nulos</th>\n",
       "      <th>Qtd. Vazios</th>\n",
       "      <th>Qtd. Duplicados</th>\n",
       "    </tr>\n",
       "  </thead>\n",
       "  <tbody>\n",
       "    <tr>\n",
       "      <th>0</th>\n",
       "      <td>pedido_id</td>\n",
       "      <td>0</td>\n",
       "      <td>0</td>\n",
       "      <td>0</td>\n",
       "    </tr>\n",
       "    <tr>\n",
       "      <th>1</th>\n",
       "      <td>produto_id</td>\n",
       "      <td>0</td>\n",
       "      <td>0</td>\n",
       "      <td>24794</td>\n",
       "    </tr>\n",
       "    <tr>\n",
       "      <th>2</th>\n",
       "      <td>vendedor_id</td>\n",
       "      <td>0</td>\n",
       "      <td>0</td>\n",
       "      <td>25050</td>\n",
       "    </tr>\n",
       "    <tr>\n",
       "      <th>3</th>\n",
       "      <td>data_compra</td>\n",
       "      <td>0</td>\n",
       "      <td>0</td>\n",
       "      <td>24276</td>\n",
       "    </tr>\n",
       "    <tr>\n",
       "      <th>4</th>\n",
       "      <td>total</td>\n",
       "      <td>0</td>\n",
       "      <td>0</td>\n",
       "      <td>24702</td>\n",
       "    </tr>\n",
       "  </tbody>\n",
       "</table>\n",
       "</div>"
      ],
      "text/plain": [
       "        Coluna  Qtd. Nulos  Qtd. Vazios  Qtd. Duplicados\n",
       "0    pedido_id           0            0                0\n",
       "1   produto_id           0            0            24794\n",
       "2  vendedor_id           0            0            25050\n",
       "3  data_compra           0            0            24276\n",
       "4        total           0            0            24702"
      ]
     },
     "metadata": {},
     "output_type": "display_data"
    },
    {
     "name": "stdout",
     "output_type": "stream",
     "text": [
      "Tabela: VENDEDORES\n"
     ]
    },
    {
     "data": {
      "text/html": [
       "<div>\n",
       "<style scoped>\n",
       "    .dataframe tbody tr th:only-of-type {\n",
       "        vertical-align: middle;\n",
       "    }\n",
       "\n",
       "    .dataframe tbody tr th {\n",
       "        vertical-align: top;\n",
       "    }\n",
       "\n",
       "    .dataframe thead th {\n",
       "        text-align: right;\n",
       "    }\n",
       "</style>\n",
       "<table border=\"1\" class=\"dataframe\">\n",
       "  <thead>\n",
       "    <tr style=\"text-align: right;\">\n",
       "      <th></th>\n",
       "      <th>Coluna</th>\n",
       "      <th>Qtd. Nulos</th>\n",
       "      <th>Qtd. Vazios</th>\n",
       "      <th>Qtd. Duplicados</th>\n",
       "    </tr>\n",
       "  </thead>\n",
       "  <tbody>\n",
       "    <tr>\n",
       "      <th>0</th>\n",
       "      <td>vendedor_id</td>\n",
       "      <td>0</td>\n",
       "      <td>0</td>\n",
       "      <td>72</td>\n",
       "    </tr>\n",
       "    <tr>\n",
       "      <th>1</th>\n",
       "      <td>NOME</td>\n",
       "      <td>0</td>\n",
       "      <td>0</td>\n",
       "      <td>72</td>\n",
       "    </tr>\n",
       "  </tbody>\n",
       "</table>\n",
       "</div>"
      ],
      "text/plain": [
       "        Coluna  Qtd. Nulos  Qtd. Vazios  Qtd. Duplicados\n",
       "0  vendedor_id           0            0               72\n",
       "1         NOME           0            0               72"
      ]
     },
     "metadata": {},
     "output_type": "display_data"
    }
   ],
   "source": [
    "for tabela in ['ITENS_PEDIDO', 'PRODUTO', 'PEDIDO', 'VENDEDORES']:\n",
    "    print(f\"Tabela: {tabela}\")\n",
    "    df = sql_df(f\"SELECT * FROM {tabela}\")\n",
    "\n",
    "    resumo = []\n",
    "    for col in df.columns:\n",
    "        nulos = df[col].isna().sum()\n",
    "        vazios = (df[col] == \"\").sum()\n",
    "        duplicados = df[col].duplicated().sum()\n",
    "        resumo.append([col, nulos, vazios, duplicados])\n",
    "\n",
    "    df_resumo = pd.DataFrame(resumo, columns=['Coluna', 'Qtd. Nulos', 'Qtd. Vazios', 'Qtd. Duplicados'])\n",
    "    display(df_resumo)"
   ]
  },
  {
   "cell_type": "markdown",
   "id": "02abbbdd",
   "metadata": {},
   "source": [
    "#### Tipagem dos dados\n",
    "Com os dados vazios, nulos e duplicados tratados, vamos ajustar a tipagem deles para partirmos para as análises."
   ]
  },
  {
   "cell_type": "code",
   "execution_count": 18,
   "id": "68f9eee8",
   "metadata": {},
   "outputs": [
    {
     "name": "stdout",
     "output_type": "stream",
     "text": [
      "Tabela: ITENS_PEDIDO\n"
     ]
    },
    {
     "data": {
      "text/html": [
       "<div>\n",
       "<style scoped>\n",
       "    .dataframe tbody tr th:only-of-type {\n",
       "        vertical-align: middle;\n",
       "    }\n",
       "\n",
       "    .dataframe tbody tr th {\n",
       "        vertical-align: top;\n",
       "    }\n",
       "\n",
       "    .dataframe thead th {\n",
       "        text-align: right;\n",
       "    }\n",
       "</style>\n",
       "<table border=\"1\" class=\"dataframe\">\n",
       "  <thead>\n",
       "    <tr style=\"text-align: right;\">\n",
       "      <th></th>\n",
       "      <th>Coluna</th>\n",
       "      <th>Tipo</th>\n",
       "    </tr>\n",
       "  </thead>\n",
       "  <tbody>\n",
       "    <tr>\n",
       "      <th>0</th>\n",
       "      <td>produto_id</td>\n",
       "      <td>int64</td>\n",
       "    </tr>\n",
       "    <tr>\n",
       "      <th>1</th>\n",
       "      <td>pedido_id</td>\n",
       "      <td>int64</td>\n",
       "    </tr>\n",
       "    <tr>\n",
       "      <th>2</th>\n",
       "      <td>quantidade</td>\n",
       "      <td>int64</td>\n",
       "    </tr>\n",
       "    <tr>\n",
       "      <th>3</th>\n",
       "      <td>valor_unitario</td>\n",
       "      <td>object</td>\n",
       "    </tr>\n",
       "    <tr>\n",
       "      <th>4</th>\n",
       "      <td>valor_total</td>\n",
       "      <td>object</td>\n",
       "    </tr>\n",
       "    <tr>\n",
       "      <th>5</th>\n",
       "      <td>estado</td>\n",
       "      <td>object</td>\n",
       "    </tr>\n",
       "    <tr>\n",
       "      <th>6</th>\n",
       "      <td>frete</td>\n",
       "      <td>object</td>\n",
       "    </tr>\n",
       "    <tr>\n",
       "      <th>7</th>\n",
       "      <td>id_nf</td>\n",
       "      <td>int64</td>\n",
       "    </tr>\n",
       "  </tbody>\n",
       "</table>\n",
       "</div>"
      ],
      "text/plain": [
       "           Coluna    Tipo\n",
       "0      produto_id   int64\n",
       "1       pedido_id   int64\n",
       "2      quantidade   int64\n",
       "3  valor_unitario  object\n",
       "4     valor_total  object\n",
       "5          estado  object\n",
       "6           frete  object\n",
       "7           id_nf   int64"
      ]
     },
     "metadata": {},
     "output_type": "display_data"
    },
    {
     "name": "stdout",
     "output_type": "stream",
     "text": [
      "Tabela: PRODUTO\n"
     ]
    },
    {
     "data": {
      "text/html": [
       "<div>\n",
       "<style scoped>\n",
       "    .dataframe tbody tr th:only-of-type {\n",
       "        vertical-align: middle;\n",
       "    }\n",
       "\n",
       "    .dataframe tbody tr th {\n",
       "        vertical-align: top;\n",
       "    }\n",
       "\n",
       "    .dataframe thead th {\n",
       "        text-align: right;\n",
       "    }\n",
       "</style>\n",
       "<table border=\"1\" class=\"dataframe\">\n",
       "  <thead>\n",
       "    <tr style=\"text-align: right;\">\n",
       "      <th></th>\n",
       "      <th>Coluna</th>\n",
       "      <th>Tipo</th>\n",
       "    </tr>\n",
       "  </thead>\n",
       "  <tbody>\n",
       "    <tr>\n",
       "      <th>0</th>\n",
       "      <td>produto_id</td>\n",
       "      <td>int64</td>\n",
       "    </tr>\n",
       "    <tr>\n",
       "      <th>1</th>\n",
       "      <td>produto</td>\n",
       "      <td>object</td>\n",
       "    </tr>\n",
       "    <tr>\n",
       "      <th>2</th>\n",
       "      <td>preco</td>\n",
       "      <td>object</td>\n",
       "    </tr>\n",
       "    <tr>\n",
       "      <th>3</th>\n",
       "      <td>marca</td>\n",
       "      <td>object</td>\n",
       "    </tr>\n",
       "    <tr>\n",
       "      <th>4</th>\n",
       "      <td>sku</td>\n",
       "      <td>object</td>\n",
       "    </tr>\n",
       "    <tr>\n",
       "      <th>5</th>\n",
       "      <td>condicao</td>\n",
       "      <td>object</td>\n",
       "    </tr>\n",
       "  </tbody>\n",
       "</table>\n",
       "</div>"
      ],
      "text/plain": [
       "       Coluna    Tipo\n",
       "0  produto_id   int64\n",
       "1     produto  object\n",
       "2       preco  object\n",
       "3       marca  object\n",
       "4         sku  object\n",
       "5    condicao  object"
      ]
     },
     "metadata": {},
     "output_type": "display_data"
    },
    {
     "name": "stdout",
     "output_type": "stream",
     "text": [
      "Tabela: PEDIDO\n"
     ]
    },
    {
     "data": {
      "text/html": [
       "<div>\n",
       "<style scoped>\n",
       "    .dataframe tbody tr th:only-of-type {\n",
       "        vertical-align: middle;\n",
       "    }\n",
       "\n",
       "    .dataframe tbody tr th {\n",
       "        vertical-align: top;\n",
       "    }\n",
       "\n",
       "    .dataframe thead th {\n",
       "        text-align: right;\n",
       "    }\n",
       "</style>\n",
       "<table border=\"1\" class=\"dataframe\">\n",
       "  <thead>\n",
       "    <tr style=\"text-align: right;\">\n",
       "      <th></th>\n",
       "      <th>Coluna</th>\n",
       "      <th>Tipo</th>\n",
       "    </tr>\n",
       "  </thead>\n",
       "  <tbody>\n",
       "    <tr>\n",
       "      <th>0</th>\n",
       "      <td>pedido_id</td>\n",
       "      <td>int64</td>\n",
       "    </tr>\n",
       "    <tr>\n",
       "      <th>1</th>\n",
       "      <td>produto_id</td>\n",
       "      <td>int64</td>\n",
       "    </tr>\n",
       "    <tr>\n",
       "      <th>2</th>\n",
       "      <td>vendedor_id</td>\n",
       "      <td>int64</td>\n",
       "    </tr>\n",
       "    <tr>\n",
       "      <th>3</th>\n",
       "      <td>data_compra</td>\n",
       "      <td>object</td>\n",
       "    </tr>\n",
       "    <tr>\n",
       "      <th>4</th>\n",
       "      <td>total</td>\n",
       "      <td>object</td>\n",
       "    </tr>\n",
       "  </tbody>\n",
       "</table>\n",
       "</div>"
      ],
      "text/plain": [
       "        Coluna    Tipo\n",
       "0    pedido_id   int64\n",
       "1   produto_id   int64\n",
       "2  vendedor_id   int64\n",
       "3  data_compra  object\n",
       "4        total  object"
      ]
     },
     "metadata": {},
     "output_type": "display_data"
    },
    {
     "name": "stdout",
     "output_type": "stream",
     "text": [
      "Tabela: VENDEDORES\n"
     ]
    },
    {
     "data": {
      "text/html": [
       "<div>\n",
       "<style scoped>\n",
       "    .dataframe tbody tr th:only-of-type {\n",
       "        vertical-align: middle;\n",
       "    }\n",
       "\n",
       "    .dataframe tbody tr th {\n",
       "        vertical-align: top;\n",
       "    }\n",
       "\n",
       "    .dataframe thead th {\n",
       "        text-align: right;\n",
       "    }\n",
       "</style>\n",
       "<table border=\"1\" class=\"dataframe\">\n",
       "  <thead>\n",
       "    <tr style=\"text-align: right;\">\n",
       "      <th></th>\n",
       "      <th>Coluna</th>\n",
       "      <th>Tipo</th>\n",
       "    </tr>\n",
       "  </thead>\n",
       "  <tbody>\n",
       "    <tr>\n",
       "      <th>0</th>\n",
       "      <td>vendedor_id</td>\n",
       "      <td>int64</td>\n",
       "    </tr>\n",
       "    <tr>\n",
       "      <th>1</th>\n",
       "      <td>NOME</td>\n",
       "      <td>object</td>\n",
       "    </tr>\n",
       "  </tbody>\n",
       "</table>\n",
       "</div>"
      ],
      "text/plain": [
       "        Coluna    Tipo\n",
       "0  vendedor_id   int64\n",
       "1         NOME  object"
      ]
     },
     "metadata": {},
     "output_type": "display_data"
    }
   ],
   "source": [
    "for tabela in ['ITENS_PEDIDO', 'PRODUTO', 'PEDIDO', 'VENDEDORES']:\n",
    "    print(f'Tabela: {tabela}')\n",
    "    df = sql_df(f'SELECT * FROM {tabela}')\n",
    "\n",
    "    tipos = pd.DataFrame(df.dtypes, columns=['Tipo'])\n",
    "    tipos.index.name = 'Coluna'\n",
    "    display(tipos.reset_index())"
   ]
  },
  {
   "cell_type": "markdown",
   "id": "0152b96b",
   "metadata": {},
   "source": [
    "#### Ajustaremos as colunas:\n",
    "- **ITENS_PEDIDO**:\n",
    "    - valor_unitario - de object para float64;\n",
    "    - valor_total - de object para float64;\n",
    "    - frete - de object para float64.\n",
    "\n",
    "- **PRODUTO**:\n",
    "    - preco - de object para float64;\n",
    "    - sku - de object para float64.\n",
    "\n",
    "- **PEDIDO**:\n",
    "    - data_compra - de object para datetime e formação para modelo brasileiro;\n",
    "    - total - de object para float64."
   ]
  },
  {
   "cell_type": "code",
   "execution_count": 19,
   "id": "ee539efa",
   "metadata": {},
   "outputs": [],
   "source": [
    "# Como faremos as tratativas usando pandas, vamos salvar as bases de dados em tabelas para também exportarmos posteriormente.\n",
    "df_itensPedido = pd.DataFrame(sql_df('SELECT * FROM ITENS_PEDIDO'))\n",
    "df_produto = pd.DataFrame(sql_df('SELECT * FROM PRODUTO'))\n",
    "df_pedido = pd.DataFrame(sql_df('SELECT * FROM PEDIDO'))\n",
    "df_vendedores = pd.DataFrame(sql_df('SELECT * FROM VENDEDORES'))"
   ]
  },
  {
   "cell_type": "code",
   "execution_count": 20,
   "id": "4d92c3bd",
   "metadata": {},
   "outputs": [],
   "source": [
    "conversao_itensPedidos = ['valor_unitario', 'valor_total', 'frete']\n",
    "\n",
    "for col in conversao_itensPedidos:\n",
    "    df_itensPedido[col] = df_itensPedido[col].astype('float64')"
   ]
  },
  {
   "cell_type": "code",
   "execution_count": 21,
   "id": "676ff59a",
   "metadata": {},
   "outputs": [],
   "source": [
    "conversao_produto = ['preco', 'sku']\n",
    "\n",
    "for col in conversao_produto:\n",
    "    df_produto[col] = df_produto[col].astype('float64')"
   ]
  },
  {
   "cell_type": "code",
   "execution_count": 22,
   "id": "804e563b",
   "metadata": {},
   "outputs": [],
   "source": [
    "#Em Pedido faremos separadamente\n",
    "df_pedido['total'] = df_pedido['total'].astype('float64')\n",
    "df_pedido['data_compra'] = pd.to_datetime(df_pedido['data_compra'], format='%Y-%m-%d')\n",
    "df_pedido['data_compra'] = df_pedido['data_compra'].dt.strftime('%d/%m/%Y')"
   ]
  },
  {
   "cell_type": "code",
   "execution_count": 23,
   "id": "8af9b511",
   "metadata": {},
   "outputs": [
    {
     "name": "stdout",
     "output_type": "stream",
     "text": [
      "Tipagem - df_itensPedido\n"
     ]
    },
    {
     "data": {
      "text/html": [
       "<div>\n",
       "<style scoped>\n",
       "    .dataframe tbody tr th:only-of-type {\n",
       "        vertical-align: middle;\n",
       "    }\n",
       "\n",
       "    .dataframe tbody tr th {\n",
       "        vertical-align: top;\n",
       "    }\n",
       "\n",
       "    .dataframe thead th {\n",
       "        text-align: right;\n",
       "    }\n",
       "</style>\n",
       "<table border=\"1\" class=\"dataframe\">\n",
       "  <thead>\n",
       "    <tr style=\"text-align: right;\">\n",
       "      <th></th>\n",
       "      <th>Coluna</th>\n",
       "      <th>Tipo</th>\n",
       "    </tr>\n",
       "  </thead>\n",
       "  <tbody>\n",
       "    <tr>\n",
       "      <th>0</th>\n",
       "      <td>produto_id</td>\n",
       "      <td>int64</td>\n",
       "    </tr>\n",
       "    <tr>\n",
       "      <th>1</th>\n",
       "      <td>pedido_id</td>\n",
       "      <td>int64</td>\n",
       "    </tr>\n",
       "    <tr>\n",
       "      <th>2</th>\n",
       "      <td>quantidade</td>\n",
       "      <td>int64</td>\n",
       "    </tr>\n",
       "    <tr>\n",
       "      <th>3</th>\n",
       "      <td>valor_unitario</td>\n",
       "      <td>float64</td>\n",
       "    </tr>\n",
       "    <tr>\n",
       "      <th>4</th>\n",
       "      <td>valor_total</td>\n",
       "      <td>float64</td>\n",
       "    </tr>\n",
       "    <tr>\n",
       "      <th>5</th>\n",
       "      <td>estado</td>\n",
       "      <td>object</td>\n",
       "    </tr>\n",
       "    <tr>\n",
       "      <th>6</th>\n",
       "      <td>frete</td>\n",
       "      <td>float64</td>\n",
       "    </tr>\n",
       "    <tr>\n",
       "      <th>7</th>\n",
       "      <td>id_nf</td>\n",
       "      <td>int64</td>\n",
       "    </tr>\n",
       "  </tbody>\n",
       "</table>\n",
       "</div>"
      ],
      "text/plain": [
       "           Coluna     Tipo\n",
       "0      produto_id    int64\n",
       "1       pedido_id    int64\n",
       "2      quantidade    int64\n",
       "3  valor_unitario  float64\n",
       "4     valor_total  float64\n",
       "5          estado   object\n",
       "6           frete  float64\n",
       "7           id_nf    int64"
      ]
     },
     "metadata": {},
     "output_type": "display_data"
    },
    {
     "name": "stdout",
     "output_type": "stream",
     "text": [
      "Tipagem - df_produto\n"
     ]
    },
    {
     "data": {
      "text/html": [
       "<div>\n",
       "<style scoped>\n",
       "    .dataframe tbody tr th:only-of-type {\n",
       "        vertical-align: middle;\n",
       "    }\n",
       "\n",
       "    .dataframe tbody tr th {\n",
       "        vertical-align: top;\n",
       "    }\n",
       "\n",
       "    .dataframe thead th {\n",
       "        text-align: right;\n",
       "    }\n",
       "</style>\n",
       "<table border=\"1\" class=\"dataframe\">\n",
       "  <thead>\n",
       "    <tr style=\"text-align: right;\">\n",
       "      <th></th>\n",
       "      <th>Coluna</th>\n",
       "      <th>Tipo</th>\n",
       "    </tr>\n",
       "  </thead>\n",
       "  <tbody>\n",
       "    <tr>\n",
       "      <th>0</th>\n",
       "      <td>produto_id</td>\n",
       "      <td>int64</td>\n",
       "    </tr>\n",
       "    <tr>\n",
       "      <th>1</th>\n",
       "      <td>produto</td>\n",
       "      <td>object</td>\n",
       "    </tr>\n",
       "    <tr>\n",
       "      <th>2</th>\n",
       "      <td>preco</td>\n",
       "      <td>float64</td>\n",
       "    </tr>\n",
       "    <tr>\n",
       "      <th>3</th>\n",
       "      <td>marca</td>\n",
       "      <td>object</td>\n",
       "    </tr>\n",
       "    <tr>\n",
       "      <th>4</th>\n",
       "      <td>sku</td>\n",
       "      <td>float64</td>\n",
       "    </tr>\n",
       "    <tr>\n",
       "      <th>5</th>\n",
       "      <td>condicao</td>\n",
       "      <td>object</td>\n",
       "    </tr>\n",
       "  </tbody>\n",
       "</table>\n",
       "</div>"
      ],
      "text/plain": [
       "       Coluna     Tipo\n",
       "0  produto_id    int64\n",
       "1     produto   object\n",
       "2       preco  float64\n",
       "3       marca   object\n",
       "4         sku  float64\n",
       "5    condicao   object"
      ]
     },
     "metadata": {},
     "output_type": "display_data"
    },
    {
     "name": "stdout",
     "output_type": "stream",
     "text": [
      "Tipagem - df_pedido\n"
     ]
    },
    {
     "data": {
      "text/html": [
       "<div>\n",
       "<style scoped>\n",
       "    .dataframe tbody tr th:only-of-type {\n",
       "        vertical-align: middle;\n",
       "    }\n",
       "\n",
       "    .dataframe tbody tr th {\n",
       "        vertical-align: top;\n",
       "    }\n",
       "\n",
       "    .dataframe thead th {\n",
       "        text-align: right;\n",
       "    }\n",
       "</style>\n",
       "<table border=\"1\" class=\"dataframe\">\n",
       "  <thead>\n",
       "    <tr style=\"text-align: right;\">\n",
       "      <th></th>\n",
       "      <th>Coluna</th>\n",
       "      <th>Tipo</th>\n",
       "    </tr>\n",
       "  </thead>\n",
       "  <tbody>\n",
       "    <tr>\n",
       "      <th>0</th>\n",
       "      <td>pedido_id</td>\n",
       "      <td>int64</td>\n",
       "    </tr>\n",
       "    <tr>\n",
       "      <th>1</th>\n",
       "      <td>produto_id</td>\n",
       "      <td>int64</td>\n",
       "    </tr>\n",
       "    <tr>\n",
       "      <th>2</th>\n",
       "      <td>vendedor_id</td>\n",
       "      <td>int64</td>\n",
       "    </tr>\n",
       "    <tr>\n",
       "      <th>3</th>\n",
       "      <td>data_compra</td>\n",
       "      <td>object</td>\n",
       "    </tr>\n",
       "    <tr>\n",
       "      <th>4</th>\n",
       "      <td>total</td>\n",
       "      <td>float64</td>\n",
       "    </tr>\n",
       "  </tbody>\n",
       "</table>\n",
       "</div>"
      ],
      "text/plain": [
       "        Coluna     Tipo\n",
       "0    pedido_id    int64\n",
       "1   produto_id    int64\n",
       "2  vendedor_id    int64\n",
       "3  data_compra   object\n",
       "4        total  float64"
      ]
     },
     "metadata": {},
     "output_type": "display_data"
    },
    {
     "name": "stdout",
     "output_type": "stream",
     "text": [
      "Tipagem - df_vendedores\n"
     ]
    },
    {
     "data": {
      "text/html": [
       "<div>\n",
       "<style scoped>\n",
       "    .dataframe tbody tr th:only-of-type {\n",
       "        vertical-align: middle;\n",
       "    }\n",
       "\n",
       "    .dataframe tbody tr th {\n",
       "        vertical-align: top;\n",
       "    }\n",
       "\n",
       "    .dataframe thead th {\n",
       "        text-align: right;\n",
       "    }\n",
       "</style>\n",
       "<table border=\"1\" class=\"dataframe\">\n",
       "  <thead>\n",
       "    <tr style=\"text-align: right;\">\n",
       "      <th></th>\n",
       "      <th>Coluna</th>\n",
       "      <th>Tipo</th>\n",
       "    </tr>\n",
       "  </thead>\n",
       "  <tbody>\n",
       "    <tr>\n",
       "      <th>0</th>\n",
       "      <td>vendedor_id</td>\n",
       "      <td>int64</td>\n",
       "    </tr>\n",
       "    <tr>\n",
       "      <th>1</th>\n",
       "      <td>NOME</td>\n",
       "      <td>object</td>\n",
       "    </tr>\n",
       "  </tbody>\n",
       "</table>\n",
       "</div>"
      ],
      "text/plain": [
       "        Coluna    Tipo\n",
       "0  vendedor_id   int64\n",
       "1         NOME  object"
      ]
     },
     "metadata": {},
     "output_type": "display_data"
    }
   ],
   "source": [
    "# Conferindo as correções\n",
    "for nome_df, df in {\n",
    "    'df_itensPedido': df_itensPedido,\n",
    "    'df_produto': df_produto,\n",
    "    'df_pedido': df_pedido,\n",
    "    'df_vendedores': df_vendedores\n",
    "}.items():\n",
    "    print(f'Tipagem - {nome_df}')\n",
    "    tipos = pd.DataFrame(df.dtypes, columns=['Tipo'])\n",
    "    tipos.index.name = 'Coluna'\n",
    "    display(tipos.reset_index())"
   ]
  },
  {
   "cell_type": "markdown",
   "id": "45501787",
   "metadata": {},
   "source": [
    "#### Com o tratamento feito, vamos exportar as tabelas para SQL novamente"
   ]
  },
  {
   "cell_type": "code",
   "execution_count": 24,
   "metadata": {},
   "outputs": [],
   "source": [
    "df_itensPedido.to_sql('itens_pedido', con=engine, index=False, if_exists='replace')\n",
    "df_produto.to_sql('produto', con=engine, index=False, if_exists='replace')\n",
    "df_pedido.to_sql('pedido', con=engine, index=False, if_exists='replace')\n",
    "df_vendedores.to_sql('vendedores', con=engine, index=False, if_exists='replace')"
   ]
  },
  {
   "cell_type": "markdown",
   "id": "02b79dce",
   "metadata": {},
   "source": [
    "### Vamos as análises"
   ]
  },
  {
   "cell_type": "markdown",
   "id": "e08a76b0",
   "metadata": {},
   "source": [
    "# Tirar depois (?)\n",
    "#### Análise Comercial\n",
    "1. Top Produtos por Faturamento\n",
    "    - Ranking dos produtos com maior valor_total (agrupar por produto)\n",
    "    - Percentual de participação dos 10 maiores no total da receita\n",
    "2. Categorias com Maior Receita\n",
    "3. Análise por marca e condicao (ex: novo vs. usado)\n",
    "    - Gráfico de barras ou pizza para visualização de participação\n",
    "4. Análise geográfica com base na coluna estado da tabela itens_pedido\n",
    "5. Custo Logístico Total (Frete)\n",
    "    - Soma total de frete mensal e diferença por lucro\n",
    "    - Lucro por estado e média por pedido"
   ]
  },
  {
   "cell_type": "markdown",
   "id": "5d86aa4a",
   "metadata": {},
   "source": [
    "1. Para chegarmos aos top produtos por faturamento, vamos montar um ranking com os 10 com maior valor_total agregado por produto, além disso, veremos o percentual desses 10 no total da receita"
   ]
  },
  {
   "cell_type": "code",
   "execution_count": 25,
   "id": "d9b89cb6",
   "metadata": {},
   "outputs": [
    {
     "data": {
      "text/html": [
       "<div>\n",
       "<style scoped>\n",
       "    .dataframe tbody tr th:only-of-type {\n",
       "        vertical-align: middle;\n",
       "    }\n",
       "\n",
       "    .dataframe tbody tr th {\n",
       "        vertical-align: top;\n",
       "    }\n",
       "\n",
       "    .dataframe thead th {\n",
       "        text-align: right;\n",
       "    }\n",
       "</style>\n",
       "<table border=\"1\" class=\"dataframe\">\n",
       "  <thead>\n",
       "    <tr style=\"text-align: right;\">\n",
       "      <th></th>\n",
       "      <th>Produto</th>\n",
       "      <th>Faturamento</th>\n",
       "      <th>Percentual Receita</th>\n",
       "    </tr>\n",
       "  </thead>\n",
       "  <tbody>\n",
       "    <tr>\n",
       "      <th>0</th>\n",
       "      <td>Bolsa Clássica Roxa</td>\n",
       "      <td>2886000.0</td>\n",
       "      <td>6.17</td>\n",
       "    </tr>\n",
       "    <tr>\n",
       "      <th>1</th>\n",
       "      <td>Bolsa Intrecciato Caramelo</td>\n",
       "      <td>2260050.0</td>\n",
       "      <td>4.83</td>\n",
       "    </tr>\n",
       "    <tr>\n",
       "      <th>2</th>\n",
       "      <td>Vestido Longo Preto</td>\n",
       "      <td>1822800.0</td>\n",
       "      <td>3.90</td>\n",
       "    </tr>\n",
       "    <tr>\n",
       "      <th>3</th>\n",
       "      <td>Saia Couro Tijolo</td>\n",
       "      <td>1808800.0</td>\n",
       "      <td>3.87</td>\n",
       "    </tr>\n",
       "    <tr>\n",
       "      <th>4</th>\n",
       "      <td>Sapato Cetim Pink</td>\n",
       "      <td>1797900.0</td>\n",
       "      <td>3.85</td>\n",
       "    </tr>\n",
       "    <tr>\n",
       "      <th>5</th>\n",
       "      <td>Bolsa Coral Saco</td>\n",
       "      <td>1488000.0</td>\n",
       "      <td>3.18</td>\n",
       "    </tr>\n",
       "    <tr>\n",
       "      <th>6</th>\n",
       "      <td>Scarpin Bege Textura</td>\n",
       "      <td>1191400.0</td>\n",
       "      <td>2.55</td>\n",
       "    </tr>\n",
       "    <tr>\n",
       "      <th>7</th>\n",
       "      <td>Óculos Redondo Purple</td>\n",
       "      <td>1157000.0</td>\n",
       "      <td>2.47</td>\n",
       "    </tr>\n",
       "    <tr>\n",
       "      <th>8</th>\n",
       "      <td>Sneaker Monograma Bege</td>\n",
       "      <td>1099340.0</td>\n",
       "      <td>2.35</td>\n",
       "    </tr>\n",
       "    <tr>\n",
       "      <th>9</th>\n",
       "      <td>Vestido Amarelo Laço</td>\n",
       "      <td>646800.0</td>\n",
       "      <td>1.38</td>\n",
       "    </tr>\n",
       "  </tbody>\n",
       "</table>\n",
       "</div>"
      ],
      "text/plain": [
       "                      Produto  Faturamento  Percentual Receita\n",
       "0         Bolsa Clássica Roxa    2886000.0                6.17\n",
       "1  Bolsa Intrecciato Caramelo    2260050.0                4.83\n",
       "2         Vestido Longo Preto    1822800.0                3.90\n",
       "3           Saia Couro Tijolo    1808800.0                3.87\n",
       "4           Sapato Cetim Pink    1797900.0                3.85\n",
       "5            Bolsa Coral Saco    1488000.0                3.18\n",
       "6        Scarpin Bege Textura    1191400.0                2.55\n",
       "7       Óculos Redondo Purple    1157000.0                2.47\n",
       "8      Sneaker Monograma Bege    1099340.0                2.35\n",
       "9        Vestido Amarelo Laço     646800.0                1.38"
      ]
     },
     "execution_count": 25,
     "metadata": {},
     "output_type": "execute_result"
    }
   ],
   "source": [
    "# Por produto\n",
    "query = '''\n",
    "SELECT \n",
    "    PRODUTO.produto AS 'Produto',\n",
    "    SUM(ITENS_PEDIDO.valor_total) AS 'Faturamento',\n",
    "    ROUND(\n",
    "        (SUM(ITENS_PEDIDO.valor_total) / \n",
    "         (SELECT SUM(valor_total) FROM ITENS_PEDIDO)) * 100, 2\n",
    "    ) AS 'Percentual Receita'\n",
    "FROM ITENS_PEDIDO\n",
    "JOIN PRODUTO ON ITENS_PEDIDO.produto_id = PRODUTO.produto_id\n",
    "GROUP BY ITENS_PEDIDO.produto_id, PRODUTO.produto\n",
    "ORDER BY Faturamento DESC\n",
    "LIMIT 10;\n",
    "'''\n",
    "\n",
    "df_comparativo_produtos = sql_df(query)\n",
    "sql_df(query)"
   ]
  },
  {
   "cell_type": "code",
   "execution_count": 26,
   "id": "f9179988",
   "metadata": {},
   "outputs": [
    {
     "data": {
      "image/png": "[encoded data removed]",
      "text/plain": [
       "<Figure size 1600x500 with 1 Axes>"
      ]
     },
     "metadata": {},
     "output_type": "display_data"
    }
   ],
   "source": [
    "plt.figure(figsize=(16, 5))\n",
    "sns.set(style='whitegrid')\n",
    "\n",
    "ax = sns.barplot(data=df_comparativo_produtos, orient='h', x='Faturamento', y='Produto', palette='Set2')\n",
    "\n",
    "#Titulos e eixos\n",
    "plt.title('Top 10 Produtos com Maior Receita (% sobre o total)', fontsize=14, fontweight='bold')\n",
    "plt.xlabel('')\n",
    "ax.set_xticks([])\n",
    "plt.ylabel('')\n",
    "\n",
    "# Anotando os valores de faturamento e percentuais\n",
    "for i, c in enumerate(ax.patches):\n",
    "    valor_abs = c.get_width()\n",
    "    valor_pct = df_comparativo_produtos['Percentual Receita'].iloc[i]\n",
    "    ax.annotate(\n",
    "        f'R${valor_abs:,.0f} ({valor_pct:.1f}%)',\n",
    "        (valor_abs, c.get_y() + c.get_height() / 2),\n",
    "        ha='left',\n",
    "        va='center',\n",
    "        fontsize=10,\n",
    "        xytext=(1, 0),\n",
    "        textcoords='offset points'\n",
    "    )\n",
    "\n",
    "\n",
    "for spine in ax.spines.values():\n",
    "    spine.set_visible(False)\n",
    "\n",
    "plt.tight_layout()\n",
    "plt.show()"
   ]
  },
  {
   "cell_type": "markdown",
   "id": "0259c3d7",
   "metadata": {},
   "source": [
    "2. Marcas com Maior Receita"
   ]
  },
  {
   "cell_type": "code",
   "execution_count": 27,
   "id": "ae9a6caf",
   "metadata": {},
   "outputs": [
    {
     "data": {
      "text/html": [
       "<div>\n",
       "<style scoped>\n",
       "    .dataframe tbody tr th:only-of-type {\n",
       "        vertical-align: middle;\n",
       "    }\n",
       "\n",
       "    .dataframe tbody tr th {\n",
       "        vertical-align: top;\n",
       "    }\n",
       "\n",
       "    .dataframe thead th {\n",
       "        text-align: right;\n",
       "    }\n",
       "</style>\n",
       "<table border=\"1\" class=\"dataframe\">\n",
       "  <thead>\n",
       "    <tr style=\"text-align: right;\">\n",
       "      <th></th>\n",
       "      <th>Marca</th>\n",
       "      <th>Faturamento</th>\n",
       "      <th>Percentual Receita</th>\n",
       "      <th>Qtd Pedidos</th>\n",
       "      <th>Percentual Pedidos</th>\n",
       "    </tr>\n",
       "  </thead>\n",
       "  <tbody>\n",
       "    <tr>\n",
       "      <th>0</th>\n",
       "      <td>Mixed</td>\n",
       "      <td>4680672.0</td>\n",
       "      <td>10.01</td>\n",
       "      <td>1700</td>\n",
       "      <td>6.78</td>\n",
       "    </tr>\n",
       "    <tr>\n",
       "      <th>1</th>\n",
       "      <td>Christian Dior</td>\n",
       "      <td>3194250.0</td>\n",
       "      <td>6.83</td>\n",
       "      <td>238</td>\n",
       "      <td>0.95</td>\n",
       "    </tr>\n",
       "    <tr>\n",
       "      <th>2</th>\n",
       "      <td>Bottega Veneta</td>\n",
       "      <td>2260050.0</td>\n",
       "      <td>4.83</td>\n",
       "      <td>103</td>\n",
       "      <td>0.41</td>\n",
       "    </tr>\n",
       "    <tr>\n",
       "      <th>3</th>\n",
       "      <td>Barbara Bela</td>\n",
       "      <td>1822800.0</td>\n",
       "      <td>3.90</td>\n",
       "      <td>124</td>\n",
       "      <td>0.49</td>\n",
       "    </tr>\n",
       "    <tr>\n",
       "      <th>4</th>\n",
       "      <td>Christian Louboutin</td>\n",
       "      <td>1797900.0</td>\n",
       "      <td>3.85</td>\n",
       "      <td>133</td>\n",
       "      <td>0.53</td>\n",
       "    </tr>\n",
       "    <tr>\n",
       "      <th>5</th>\n",
       "      <td>Givenchy</td>\n",
       "      <td>1488000.0</td>\n",
       "      <td>3.18</td>\n",
       "      <td>110</td>\n",
       "      <td>0.44</td>\n",
       "    </tr>\n",
       "    <tr>\n",
       "      <th>6</th>\n",
       "      <td>Zara</td>\n",
       "      <td>1474894.0</td>\n",
       "      <td>3.15</td>\n",
       "      <td>2762</td>\n",
       "      <td>11.02</td>\n",
       "    </tr>\n",
       "    <tr>\n",
       "      <th>7</th>\n",
       "      <td>Animale</td>\n",
       "      <td>1406123.0</td>\n",
       "      <td>3.01</td>\n",
       "      <td>1143</td>\n",
       "      <td>4.56</td>\n",
       "    </tr>\n",
       "    <tr>\n",
       "      <th>8</th>\n",
       "      <td>Jimmy Choo</td>\n",
       "      <td>1191400.0</td>\n",
       "      <td>2.55</td>\n",
       "      <td>122</td>\n",
       "      <td>0.49</td>\n",
       "    </tr>\n",
       "    <tr>\n",
       "      <th>9</th>\n",
       "      <td>Prada</td>\n",
       "      <td>1157000.0</td>\n",
       "      <td>2.47</td>\n",
       "      <td>138</td>\n",
       "      <td>0.55</td>\n",
       "    </tr>\n",
       "  </tbody>\n",
       "</table>\n",
       "</div>"
      ],
      "text/plain": [
       "                 Marca  Faturamento  Percentual Receita  Qtd Pedidos  \\\n",
       "0                Mixed    4680672.0               10.01         1700   \n",
       "1       Christian Dior    3194250.0                6.83          238   \n",
       "2       Bottega Veneta    2260050.0                4.83          103   \n",
       "3         Barbara Bela    1822800.0                3.90          124   \n",
       "4  Christian Louboutin    1797900.0                3.85          133   \n",
       "5             Givenchy    1488000.0                3.18          110   \n",
       "6                 Zara    1474894.0                3.15         2762   \n",
       "7              Animale    1406123.0                3.01         1143   \n",
       "8           Jimmy Choo    1191400.0                2.55          122   \n",
       "9                Prada    1157000.0                2.47          138   \n",
       "\n",
       "  Percentual Pedidos  \n",
       "0               6.78  \n",
       "1               0.95  \n",
       "2               0.41  \n",
       "3               0.49  \n",
       "4               0.53  \n",
       "5               0.44  \n",
       "6              11.02  \n",
       "7               4.56  \n",
       "8               0.49  \n",
       "9               0.55  "
      ]
     },
     "execution_count": 27,
     "metadata": {},
     "output_type": "execute_result"
    }
   ],
   "source": [
    "# por marca\n",
    "query = '''\n",
    "SELECT \n",
    "    PRODUTO.marca AS 'Marca',\n",
    "    SUM(ITENS_PEDIDO.valor_total) AS 'Faturamento',\n",
    "    ROUND(\n",
    "        (SUM(ITENS_PEDIDO.valor_total) / \n",
    "         (SELECT SUM(valor_total) FROM ITENS_PEDIDO)) * 100, 2\n",
    "    ) AS 'Percentual Receita',\n",
    "    COUNT(DISTINCT ITENS_PEDIDO.pedido_id) AS 'Qtd Pedidos',\n",
    "    ROUND(\n",
    "        (COUNT(DISTINCT ITENS_PEDIDO.pedido_id) / \n",
    "         (SELECT COUNT(DISTINCT pedido_id) FROM ITENS_PEDIDO)) * 100, 2\n",
    "    ) AS 'Percentual Pedidos'\n",
    "FROM ITENS_PEDIDO\n",
    "JOIN PRODUTO ON ITENS_PEDIDO.produto_id = PRODUTO.produto_id\n",
    "GROUP BY PRODUTO.marca\n",
    "ORDER BY Faturamento DESC\n",
    "LIMIT 10;\n",
    "'''\n",
    "\n",
    "\n",
    "df_comparativo_categorias = sql_df(query)\n",
    "sql_df(query)"
   ]
  },
  {
   "cell_type": "code",
   "execution_count": 28,
   "id": "61745524",
   "metadata": {},
   "outputs": [
    {
     "data": {
      "image/png": "[encoded data removed]",
      "text/plain": [
       "<Figure size 1600x500 with 1 Axes>"
      ]
     },
     "metadata": {},
     "output_type": "display_data"
    }
   ],
   "source": [
    "plt.figure(figsize=(16, 5))\n",
    "sns.set(style='whitegrid')\n",
    "\n",
    "ax = sns.barplot(data=df_comparativo_categorias, orient='h', x='Faturamento', y='Marca', palette='Set2')\n",
    "\n",
    "#Titulos e eixos\n",
    "plt.title('Top 10 Marcas com Maior Receita (% sobre o total)', fontsize=14, fontweight='bold')\n",
    "plt.xlabel('')\n",
    "ax.set_xticks([])\n",
    "plt.ylabel('')\n",
    "\n",
    "# Anotando os valores de faturamento e percentuais\n",
    "for i, c in enumerate(ax.patches):\n",
    "    valor_abs = c.get_width()\n",
    "    valor_pct = df_comparativo_categorias['Percentual Receita'].iloc[i]\n",
    "    ax.annotate(\n",
    "        f'R$ {valor_abs:,.0f} ({valor_pct:.2f}%)'.replace(',','.'),\n",
    "        (valor_abs, c.get_y() + c.get_height() / 2),\n",
    "        ha='left',\n",
    "        va='center',\n",
    "        fontsize=10,\n",
    "        xytext=(5, 0),\n",
    "        textcoords='offset points'\n",
    "    )\n",
    "\n",
    "\n",
    "for spine in ax.spines.values():\n",
    "    spine.set_visible(False)\n",
    "\n",
    "plt.tight_layout()\n",
    "plt.show()"
   ]
  },
  {
   "cell_type": "code",
   "execution_count": 29,
   "id": "3a16c6a4",
   "metadata": {},
   "outputs": [
    {
     "data": {
      "text/html": [
       "<div>\n",
       "<style scoped>\n",
       "    .dataframe tbody tr th:only-of-type {\n",
       "        vertical-align: middle;\n",
       "    }\n",
       "\n",
       "    .dataframe tbody tr th {\n",
       "        vertical-align: top;\n",
       "    }\n",
       "\n",
       "    .dataframe thead th {\n",
       "        text-align: right;\n",
       "    }\n",
       "</style>\n",
       "<table border=\"1\" class=\"dataframe\">\n",
       "  <thead>\n",
       "    <tr style=\"text-align: right;\">\n",
       "      <th></th>\n",
       "      <th>Produto</th>\n",
       "      <th>Marca</th>\n",
       "      <th>Qtd Pedidos</th>\n",
       "      <th>Percentual Pedidos</th>\n",
       "    </tr>\n",
       "  </thead>\n",
       "  <tbody>\n",
       "    <tr>\n",
       "      <th>0</th>\n",
       "      <td>Saia Midi Cinto</td>\n",
       "      <td>Limone By Jade Seba</td>\n",
       "      <td>155</td>\n",
       "      <td>0.62</td>\n",
       "    </tr>\n",
       "    <tr>\n",
       "      <th>1</th>\n",
       "      <td>Bomber Tricot Off</td>\n",
       "      <td>Sacada</td>\n",
       "      <td>150</td>\n",
       "      <td>0.60</td>\n",
       "    </tr>\n",
       "    <tr>\n",
       "      <th>2</th>\n",
       "      <td>Blusa Manga Estampa</td>\n",
       "      <td>Animale</td>\n",
       "      <td>149</td>\n",
       "      <td>0.59</td>\n",
       "    </tr>\n",
       "    <tr>\n",
       "      <th>3</th>\n",
       "      <td>Vestido Nude Reta</td>\n",
       "      <td>Ellus</td>\n",
       "      <td>146</td>\n",
       "      <td>0.58</td>\n",
       "    </tr>\n",
       "    <tr>\n",
       "      <th>4</th>\n",
       "      <td>Blusa Veludo Flores</td>\n",
       "      <td>Isa Kulikovski</td>\n",
       "      <td>144</td>\n",
       "      <td>0.57</td>\n",
       "    </tr>\n",
       "    <tr>\n",
       "      <th>5</th>\n",
       "      <td>Vestido Longo Estampa</td>\n",
       "      <td>Farm</td>\n",
       "      <td>144</td>\n",
       "      <td>0.57</td>\n",
       "    </tr>\n",
       "    <tr>\n",
       "      <th>6</th>\n",
       "      <td>Camisa Xadrez Azul</td>\n",
       "      <td>Hollister</td>\n",
       "      <td>144</td>\n",
       "      <td>0.57</td>\n",
       "    </tr>\n",
       "    <tr>\n",
       "      <th>7</th>\n",
       "      <td>Cropped Listras Florzinhas</td>\n",
       "      <td>Topshop</td>\n",
       "      <td>142</td>\n",
       "      <td>0.57</td>\n",
       "    </tr>\n",
       "    <tr>\n",
       "      <th>8</th>\n",
       "      <td>Shorts Bordado Branco</td>\n",
       "      <td>Shoulder</td>\n",
       "      <td>142</td>\n",
       "      <td>0.57</td>\n",
       "    </tr>\n",
       "    <tr>\n",
       "      <th>9</th>\n",
       "      <td>Calça Jeans Off-white</td>\n",
       "      <td>Zara</td>\n",
       "      <td>141</td>\n",
       "      <td>0.56</td>\n",
       "    </tr>\n",
       "  </tbody>\n",
       "</table>\n",
       "</div>"
      ],
      "text/plain": [
       "                      Produto                Marca  Qtd Pedidos  \\\n",
       "0             Saia Midi Cinto  Limone By Jade Seba          155   \n",
       "1           Bomber Tricot Off               Sacada          150   \n",
       "2         Blusa Manga Estampa              Animale          149   \n",
       "3           Vestido Nude Reta                Ellus          146   \n",
       "4         Blusa Veludo Flores       Isa Kulikovski          144   \n",
       "5       Vestido Longo Estampa                 Farm          144   \n",
       "6          Camisa Xadrez Azul            Hollister          144   \n",
       "7  Cropped Listras Florzinhas              Topshop          142   \n",
       "8       Shorts Bordado Branco             Shoulder          142   \n",
       "9       Calça Jeans Off-white                 Zara          141   \n",
       "\n",
       "  Percentual Pedidos  \n",
       "0               0.62  \n",
       "1               0.60  \n",
       "2               0.59  \n",
       "3               0.58  \n",
       "4               0.57  \n",
       "5               0.57  \n",
       "6               0.57  \n",
       "7               0.57  \n",
       "8               0.57  \n",
       "9               0.56  "
      ]
     },
     "execution_count": 29,
     "metadata": {},
     "output_type": "execute_result"
    }
   ],
   "source": [
    "#top itens c mais pedidos - produtos c alta demanda\n",
    "query = '''\n",
    "SELECT \n",
    "    PRODUTO.produto AS 'Produto',\n",
    "    PRODUTO.marca as 'Marca',\n",
    "    COUNT(DISTINCT ITENS_PEDIDO.pedido_id) AS 'Qtd Pedidos',\n",
    "    ROUND(\n",
    "        (COUNT(DISTINCT ITENS_PEDIDO.pedido_id) / \n",
    "         (SELECT COUNT(DISTINCT pedido_id) FROM ITENS_PEDIDO)) * 100, 2\n",
    "    ) AS 'Percentual Pedidos'\n",
    "FROM ITENS_PEDIDO\n",
    "JOIN PRODUTO ON ITENS_PEDIDO.produto_id = PRODUTO.produto_id\n",
    "GROUP BY ITENS_PEDIDO.produto_id, PRODUTO.produto, PRODUTO.marca\n",
    "ORDER BY `Qtd Pedidos` DESC\n",
    "LIMIT 10;\n",
    "'''\n",
    "sql_df(query)"
   ]
  },
  {
   "cell_type": "markdown",
   "id": "a513d7ae",
   "metadata": {},
   "source": [
    "Após essa análise, é possível reparar que os itens mais vendidos não estão entre os que mais faturam\n",
    "\n",
    "\n",
    "### destrinchar o q pode gerar"
   ]
  },
  {
   "cell_type": "markdown",
   "id": "5cce79ad",
   "metadata": {},
   "source": [
    "3. Análise por condicao (ex: novo vs. usado)\n",
    "    - Gráfico de barras ou pizza para visualização de participação"
   ]
  },
  {
   "cell_type": "code",
   "execution_count": 30,
   "id": "d2d3e07e",
   "metadata": {},
   "outputs": [
    {
     "data": {
      "text/html": [
       "<div>\n",
       "<style scoped>\n",
       "    .dataframe tbody tr th:only-of-type {\n",
       "        vertical-align: middle;\n",
       "    }\n",
       "\n",
       "    .dataframe tbody tr th {\n",
       "        vertical-align: top;\n",
       "    }\n",
       "\n",
       "    .dataframe thead th {\n",
       "        text-align: right;\n",
       "    }\n",
       "</style>\n",
       "<table border=\"1\" class=\"dataframe\">\n",
       "  <thead>\n",
       "    <tr style=\"text-align: right;\">\n",
       "      <th></th>\n",
       "      <th>Condição</th>\n",
       "      <th>Faturamento</th>\n",
       "      <th>Percentual Receita</th>\n",
       "    </tr>\n",
       "  </thead>\n",
       "  <tbody>\n",
       "    <tr>\n",
       "      <th>0</th>\n",
       "      <td>Usado</td>\n",
       "      <td>40092538.0</td>\n",
       "      <td>85.76</td>\n",
       "    </tr>\n",
       "    <tr>\n",
       "      <th>1</th>\n",
       "      <td>Novo com etiqueta</td>\n",
       "      <td>4820950.0</td>\n",
       "      <td>10.31</td>\n",
       "    </tr>\n",
       "    <tr>\n",
       "      <th>2</th>\n",
       "      <td>Novo sem etiqueta</td>\n",
       "      <td>1573024.0</td>\n",
       "      <td>3.36</td>\n",
       "    </tr>\n",
       "  </tbody>\n",
       "</table>\n",
       "</div>"
      ],
      "text/plain": [
       "            Condição  Faturamento  Percentual Receita\n",
       "0              Usado   40092538.0               85.76\n",
       "1  Novo com etiqueta    4820950.0               10.31\n",
       "2  Novo sem etiqueta    1573024.0                3.36"
      ]
     },
     "execution_count": 30,
     "metadata": {},
     "output_type": "execute_result"
    }
   ],
   "source": [
    "query = '''\n",
    "SELECT \n",
    "    PRODUTO.condicao AS 'Condição', \n",
    "    SUM(ITENS_PEDIDO.valor_total) AS 'Faturamento',\n",
    "    ROUND(\n",
    "        (SUM(ITENS_PEDIDO.valor_total) / \n",
    "        (SELECT SUM(valor_total) FROM ITENS_PEDIDO)) * 100, 2\n",
    "    ) AS 'Percentual Receita'\n",
    "FROM ITENS_PEDIDO\n",
    "JOIN PRODUTO ON ITENS_PEDIDO.produto_id = PRODUTO.produto_id\n",
    "GROUP BY PRODUTO.condicao\n",
    "ORDER BY Faturamento DESC;\n",
    "'''\n",
    "df_comparativo_condicao = sql_df(query)\n",
    "sql_df(query)"
   ]
  },
  {
   "cell_type": "code",
   "execution_count": 31,
   "id": "3e2c86e7",
   "metadata": {},
   "outputs": [
    {
     "data": {
      "image/png": "[encoded data removed]",
      "text/plain": [
       "<Figure size 800x600 with 1 Axes>"
      ]
     },
     "metadata": {},
     "output_type": "display_data"
    }
   ],
   "source": [
    "# Comparativo de faturamento de acordo com a condição do produto\n",
    "\n",
    "#Função p visualização de valores + percentual\n",
    "def pct_formatado(pct, allvals):\n",
    "    valor = int(round(pct/100.*sum(allvals)))\n",
    "    return f'R$ {valor:,.0f}\\n({pct:.2f}%)'.replace(',','.')\n",
    "\n",
    "#Plot\n",
    "plt.figure(figsize=(8, 6))\n",
    "sns.set(style='whitegrid')\n",
    "cores = sns.color_palette('Set2')\n",
    "explode = [0.05] * len(df_comparativo_condicao) #explode p separar um pouco as fatias e melhorar a visualização\n",
    "\n",
    "wedges, texts, autotexts = plt.pie(\n",
    "    df_comparativo_condicao['Faturamento'],\n",
    "    labels=None,\n",
    "    autopct=lambda pct: pct_formatado(pct, df_comparativo_condicao['Faturamento']),\n",
    "    startangle=45,\n",
    "    explode=explode,\n",
    "    colors=cores,\n",
    "    wedgeprops=dict(edgecolor='black'),\n",
    "    textprops={'fontsize':10, 'weight':'bold'}\n",
    ")\n",
    "\n",
    "# Posiciona os textos (autotexts) para fora\n",
    "for i, a in enumerate(autotexts):\n",
    "    ang = (wedges[i].theta2 + wedges[i].theta1)/2.0\n",
    "    x = np.cos(np.deg2rad(ang))\n",
    "    y = np.sin(np.deg2rad(ang))\n",
    "    a.set_position((1.3*x, 1.3*y))  # distância externa\n",
    "    a.set_ha('center')\n",
    "    a.set_va('center')\n",
    "\n",
    "\n",
    "plt.legend(\n",
    "    labels=df_comparativo_condicao['Condição'],\n",
    "    loc='best',\n",
    "    bbox_to_anchor=(1.0, 0.5),\n",
    "    title='Condição',\n",
    "    fontsize=12\n",
    ")\n",
    "\n",
    "\n",
    "#Título e labels\n",
    "plt.title('Distribuição de faturamento por condição de produto vendido', fontsize=16, fontweight='bold', loc='left')\n",
    "plt.show()"
   ]
  },
  {
   "cell_type": "markdown",
   "id": "29ed6d04",
   "metadata": {},
   "source": [
    "A grande parte de nossa receita vem de produtos usados"
   ]
  },
  {
   "cell_type": "markdown",
   "id": "e9602f49",
   "metadata": {},
   "source": [
    "4. Análise geográfica com base na coluna estado da tabela itens_pedido\n"
   ]
  },
  {
   "cell_type": "code",
   "execution_count": 32,
   "id": "4be7c765",
   "metadata": {},
   "outputs": [
    {
     "data": {
      "text/html": [
       "<div>\n",
       "<style scoped>\n",
       "    .dataframe tbody tr th:only-of-type {\n",
       "        vertical-align: middle;\n",
       "    }\n",
       "\n",
       "    .dataframe tbody tr th {\n",
       "        vertical-align: top;\n",
       "    }\n",
       "\n",
       "    .dataframe thead th {\n",
       "        text-align: right;\n",
       "    }\n",
       "</style>\n",
       "<table border=\"1\" class=\"dataframe\">\n",
       "  <thead>\n",
       "    <tr style=\"text-align: right;\">\n",
       "      <th></th>\n",
       "      <th>Estado</th>\n",
       "      <th>Faturamento</th>\n",
       "      <th>Qtd Pedidos</th>\n",
       "    </tr>\n",
       "  </thead>\n",
       "  <tbody>\n",
       "    <tr>\n",
       "      <th>0</th>\n",
       "      <td>BR-AL</td>\n",
       "      <td>1947914.0</td>\n",
       "      <td>947</td>\n",
       "    </tr>\n",
       "    <tr>\n",
       "      <th>1</th>\n",
       "      <td>BR-PE</td>\n",
       "      <td>1918537.0</td>\n",
       "      <td>951</td>\n",
       "    </tr>\n",
       "    <tr>\n",
       "      <th>2</th>\n",
       "      <td>BR-SC</td>\n",
       "      <td>1876949.0</td>\n",
       "      <td>915</td>\n",
       "    </tr>\n",
       "    <tr>\n",
       "      <th>3</th>\n",
       "      <td>BR-AP</td>\n",
       "      <td>1876521.0</td>\n",
       "      <td>897</td>\n",
       "    </tr>\n",
       "    <tr>\n",
       "      <th>4</th>\n",
       "      <td>BR-CE</td>\n",
       "      <td>1866421.0</td>\n",
       "      <td>901</td>\n",
       "    </tr>\n",
       "    <tr>\n",
       "      <th>5</th>\n",
       "      <td>BR-MA</td>\n",
       "      <td>1866358.0</td>\n",
       "      <td>993</td>\n",
       "    </tr>\n",
       "    <tr>\n",
       "      <th>6</th>\n",
       "      <td>BR-GO</td>\n",
       "      <td>1833821.0</td>\n",
       "      <td>950</td>\n",
       "    </tr>\n",
       "    <tr>\n",
       "      <th>7</th>\n",
       "      <td>BR-PB</td>\n",
       "      <td>1810008.0</td>\n",
       "      <td>936</td>\n",
       "    </tr>\n",
       "    <tr>\n",
       "      <th>8</th>\n",
       "      <td>BR-SP</td>\n",
       "      <td>1781060.0</td>\n",
       "      <td>905</td>\n",
       "    </tr>\n",
       "    <tr>\n",
       "      <th>9</th>\n",
       "      <td>BR-MT</td>\n",
       "      <td>1737168.0</td>\n",
       "      <td>958</td>\n",
       "    </tr>\n",
       "    <tr>\n",
       "      <th>10</th>\n",
       "      <td>BR-PI</td>\n",
       "      <td>1726903.0</td>\n",
       "      <td>941</td>\n",
       "    </tr>\n",
       "    <tr>\n",
       "      <th>11</th>\n",
       "      <td>BR-PA</td>\n",
       "      <td>1716953.0</td>\n",
       "      <td>957</td>\n",
       "    </tr>\n",
       "    <tr>\n",
       "      <th>12</th>\n",
       "      <td>BR-SE</td>\n",
       "      <td>1707826.0</td>\n",
       "      <td>932</td>\n",
       "    </tr>\n",
       "    <tr>\n",
       "      <th>13</th>\n",
       "      <td>BR-RS</td>\n",
       "      <td>1706759.0</td>\n",
       "      <td>929</td>\n",
       "    </tr>\n",
       "    <tr>\n",
       "      <th>14</th>\n",
       "      <td>BR-BR-RR</td>\n",
       "      <td>1702803.0</td>\n",
       "      <td>940</td>\n",
       "    </tr>\n",
       "    <tr>\n",
       "      <th>15</th>\n",
       "      <td>BR-RJ</td>\n",
       "      <td>1699289.0</td>\n",
       "      <td>938</td>\n",
       "    </tr>\n",
       "    <tr>\n",
       "      <th>16</th>\n",
       "      <td>BR-RN</td>\n",
       "      <td>1693012.0</td>\n",
       "      <td>939</td>\n",
       "    </tr>\n",
       "    <tr>\n",
       "      <th>17</th>\n",
       "      <td>BR-BA</td>\n",
       "      <td>1688207.0</td>\n",
       "      <td>916</td>\n",
       "    </tr>\n",
       "    <tr>\n",
       "      <th>18</th>\n",
       "      <td>BR-DF</td>\n",
       "      <td>1685546.0</td>\n",
       "      <td>973</td>\n",
       "    </tr>\n",
       "    <tr>\n",
       "      <th>19</th>\n",
       "      <td>BR-MG</td>\n",
       "      <td>1678947.0</td>\n",
       "      <td>931</td>\n",
       "    </tr>\n",
       "    <tr>\n",
       "      <th>20</th>\n",
       "      <td>BR-TO</td>\n",
       "      <td>1666806.0</td>\n",
       "      <td>916</td>\n",
       "    </tr>\n",
       "    <tr>\n",
       "      <th>21</th>\n",
       "      <td>BR-ES</td>\n",
       "      <td>1665180.0</td>\n",
       "      <td>917</td>\n",
       "    </tr>\n",
       "    <tr>\n",
       "      <th>22</th>\n",
       "      <td>BR-PR</td>\n",
       "      <td>1663617.0</td>\n",
       "      <td>922</td>\n",
       "    </tr>\n",
       "    <tr>\n",
       "      <th>23</th>\n",
       "      <td>BR-RO</td>\n",
       "      <td>1659829.0</td>\n",
       "      <td>938</td>\n",
       "    </tr>\n",
       "    <tr>\n",
       "      <th>24</th>\n",
       "      <td>BR-AM</td>\n",
       "      <td>1567238.0</td>\n",
       "      <td>855</td>\n",
       "    </tr>\n",
       "    <tr>\n",
       "      <th>25</th>\n",
       "      <td>BR-MS</td>\n",
       "      <td>1552833.0</td>\n",
       "      <td>882</td>\n",
       "    </tr>\n",
       "    <tr>\n",
       "      <th>26</th>\n",
       "      <td>BR-AC</td>\n",
       "      <td>1452770.0</td>\n",
       "      <td>877</td>\n",
       "    </tr>\n",
       "  </tbody>\n",
       "</table>\n",
       "</div>"
      ],
      "text/plain": [
       "      Estado  Faturamento  Qtd Pedidos\n",
       "0      BR-AL    1947914.0          947\n",
       "1      BR-PE    1918537.0          951\n",
       "2      BR-SC    1876949.0          915\n",
       "3      BR-AP    1876521.0          897\n",
       "4      BR-CE    1866421.0          901\n",
       "5      BR-MA    1866358.0          993\n",
       "6      BR-GO    1833821.0          950\n",
       "7      BR-PB    1810008.0          936\n",
       "8      BR-SP    1781060.0          905\n",
       "9      BR-MT    1737168.0          958\n",
       "10     BR-PI    1726903.0          941\n",
       "11     BR-PA    1716953.0          957\n",
       "12     BR-SE    1707826.0          932\n",
       "13     BR-RS    1706759.0          929\n",
       "14  BR-BR-RR    1702803.0          940\n",
       "15     BR-RJ    1699289.0          938\n",
       "16     BR-RN    1693012.0          939\n",
       "17     BR-BA    1688207.0          916\n",
       "18     BR-DF    1685546.0          973\n",
       "19     BR-MG    1678947.0          931\n",
       "20     BR-TO    1666806.0          916\n",
       "21     BR-ES    1665180.0          917\n",
       "22     BR-PR    1663617.0          922\n",
       "23     BR-RO    1659829.0          938\n",
       "24     BR-AM    1567238.0          855\n",
       "25     BR-MS    1552833.0          882\n",
       "26     BR-AC    1452770.0          877"
      ]
     },
     "execution_count": 32,
     "metadata": {},
     "output_type": "execute_result"
    }
   ],
   "source": [
    "query = '''\n",
    "SELECT \n",
    "    estado AS 'Estado',\n",
    "    SUM(valor_total) AS 'Faturamento',\n",
    "    COUNT(DISTINCT pedido_id) AS 'Qtd Pedidos'\n",
    "FROM ITENS_PEDIDO\n",
    "GROUP BY estado\n",
    "ORDER BY Faturamento DESC;\n",
    "'''\n",
    "df_comparativo_estados = sql_df(query)\n",
    "sql_df(query)"
   ]
  },
  {
   "cell_type": "code",
   "execution_count": 33,
   "id": "89774375",
   "metadata": {},
   "outputs": [],
   "source": [
    "# Como vimos a entrada de estado incorreta 'BR-BR-RR', vamos ajustar os nomes dos estados para tirar o BR antes de cada, já que vendemos apenas internamente.\n",
    "#Além disso, para melhorar a visualização no treemap, vamos incluir as regiões de cada estado\n",
    "query_update_estados = '''\n",
    "UPDATE ITENS_PEDIDO\n",
    "SET ESTADO = REPLACE(ESTADO, 'BR-', '')\n",
    "'''\n",
    "query_update_coluna_regioes = '''\n",
    "ALTER TABLE ITENS_PEDIDO ADD COLUMN REGIAO TEXT;\n",
    "'''\n",
    "\n",
    "query_update_regioes = '''\n",
    "UPDATE ITENS_PEDIDO\n",
    "SET REGIAO = CASE\n",
    "    WHEN ESTADO IN ('SP', 'RJ', 'MG', 'ES') THEN 'Sudeste'\n",
    "    WHEN ESTADO IN ('PR', 'SC', 'RS') THEN 'Sul'\n",
    "    WHEN ESTADO IN ('DF', 'GO', 'MT', 'MS') THEN 'Centro-Oeste'\n",
    "    WHEN ESTADO IN ('BA', 'SE', 'AL', 'PE', 'PB', 'RN', 'CE', 'PI', 'MA') THEN 'Nordeste'\n",
    "    WHEN ESTADO IN ('AM', 'RR', 'AP', 'PA', 'TO', 'RO', 'AC') THEN 'Norte'\n",
    "    ELSE 'Outros'\n",
    "END\n",
    "'''\n",
    "\n",
    "with engine.connect() as conexao:\n",
    "    conexao.execute(text(query_update_estados))\n",
    "    conexao.execute(text(query_update_coluna_regioes))\n",
    "    conexao.execute(text(query_update_regioes))"
   ]
  },
  {
   "cell_type": "code",
   "execution_count": 34,
   "id": "723d7ce9",
   "metadata": {},
   "outputs": [
    {
     "data": {
      "text/html": [
       "<div>\n",
       "<style scoped>\n",
       "    .dataframe tbody tr th:only-of-type {\n",
       "        vertical-align: middle;\n",
       "    }\n",
       "\n",
       "    .dataframe tbody tr th {\n",
       "        vertical-align: top;\n",
       "    }\n",
       "\n",
       "    .dataframe thead th {\n",
       "        text-align: right;\n",
       "    }\n",
       "</style>\n",
       "<table border=\"1\" class=\"dataframe\">\n",
       "  <thead>\n",
       "    <tr style=\"text-align: right;\">\n",
       "      <th></th>\n",
       "      <th>Estado</th>\n",
       "      <th>Regiao</th>\n",
       "      <th>Faturamento</th>\n",
       "      <th>Qtd Pedidos</th>\n",
       "    </tr>\n",
       "  </thead>\n",
       "  <tbody>\n",
       "    <tr>\n",
       "      <th>0</th>\n",
       "      <td>AL</td>\n",
       "      <td>Nordeste</td>\n",
       "      <td>1947914.0</td>\n",
       "      <td>947</td>\n",
       "    </tr>\n",
       "    <tr>\n",
       "      <th>1</th>\n",
       "      <td>PE</td>\n",
       "      <td>Nordeste</td>\n",
       "      <td>1918537.0</td>\n",
       "      <td>951</td>\n",
       "    </tr>\n",
       "    <tr>\n",
       "      <th>2</th>\n",
       "      <td>SC</td>\n",
       "      <td>Sul</td>\n",
       "      <td>1876949.0</td>\n",
       "      <td>915</td>\n",
       "    </tr>\n",
       "    <tr>\n",
       "      <th>3</th>\n",
       "      <td>AP</td>\n",
       "      <td>Norte</td>\n",
       "      <td>1876521.0</td>\n",
       "      <td>897</td>\n",
       "    </tr>\n",
       "    <tr>\n",
       "      <th>4</th>\n",
       "      <td>CE</td>\n",
       "      <td>Nordeste</td>\n",
       "      <td>1866421.0</td>\n",
       "      <td>901</td>\n",
       "    </tr>\n",
       "    <tr>\n",
       "      <th>5</th>\n",
       "      <td>MA</td>\n",
       "      <td>Nordeste</td>\n",
       "      <td>1866358.0</td>\n",
       "      <td>993</td>\n",
       "    </tr>\n",
       "    <tr>\n",
       "      <th>6</th>\n",
       "      <td>GO</td>\n",
       "      <td>Centro-Oeste</td>\n",
       "      <td>1833821.0</td>\n",
       "      <td>950</td>\n",
       "    </tr>\n",
       "    <tr>\n",
       "      <th>7</th>\n",
       "      <td>PB</td>\n",
       "      <td>Nordeste</td>\n",
       "      <td>1810008.0</td>\n",
       "      <td>936</td>\n",
       "    </tr>\n",
       "    <tr>\n",
       "      <th>8</th>\n",
       "      <td>SP</td>\n",
       "      <td>Sudeste</td>\n",
       "      <td>1781060.0</td>\n",
       "      <td>905</td>\n",
       "    </tr>\n",
       "    <tr>\n",
       "      <th>9</th>\n",
       "      <td>MT</td>\n",
       "      <td>Centro-Oeste</td>\n",
       "      <td>1737168.0</td>\n",
       "      <td>958</td>\n",
       "    </tr>\n",
       "    <tr>\n",
       "      <th>10</th>\n",
       "      <td>PI</td>\n",
       "      <td>Nordeste</td>\n",
       "      <td>1726903.0</td>\n",
       "      <td>941</td>\n",
       "    </tr>\n",
       "    <tr>\n",
       "      <th>11</th>\n",
       "      <td>PA</td>\n",
       "      <td>Norte</td>\n",
       "      <td>1716953.0</td>\n",
       "      <td>957</td>\n",
       "    </tr>\n",
       "    <tr>\n",
       "      <th>12</th>\n",
       "      <td>SE</td>\n",
       "      <td>Nordeste</td>\n",
       "      <td>1707826.0</td>\n",
       "      <td>932</td>\n",
       "    </tr>\n",
       "    <tr>\n",
       "      <th>13</th>\n",
       "      <td>RS</td>\n",
       "      <td>Sul</td>\n",
       "      <td>1706759.0</td>\n",
       "      <td>929</td>\n",
       "    </tr>\n",
       "    <tr>\n",
       "      <th>14</th>\n",
       "      <td>RR</td>\n",
       "      <td>Norte</td>\n",
       "      <td>1702803.0</td>\n",
       "      <td>940</td>\n",
       "    </tr>\n",
       "    <tr>\n",
       "      <th>15</th>\n",
       "      <td>RJ</td>\n",
       "      <td>Sudeste</td>\n",
       "      <td>1699289.0</td>\n",
       "      <td>938</td>\n",
       "    </tr>\n",
       "    <tr>\n",
       "      <th>16</th>\n",
       "      <td>RN</td>\n",
       "      <td>Nordeste</td>\n",
       "      <td>1693012.0</td>\n",
       "      <td>939</td>\n",
       "    </tr>\n",
       "    <tr>\n",
       "      <th>17</th>\n",
       "      <td>BA</td>\n",
       "      <td>Nordeste</td>\n",
       "      <td>1688207.0</td>\n",
       "      <td>916</td>\n",
       "    </tr>\n",
       "    <tr>\n",
       "      <th>18</th>\n",
       "      <td>DF</td>\n",
       "      <td>Centro-Oeste</td>\n",
       "      <td>1685546.0</td>\n",
       "      <td>973</td>\n",
       "    </tr>\n",
       "    <tr>\n",
       "      <th>19</th>\n",
       "      <td>MG</td>\n",
       "      <td>Sudeste</td>\n",
       "      <td>1678947.0</td>\n",
       "      <td>931</td>\n",
       "    </tr>\n",
       "    <tr>\n",
       "      <th>20</th>\n",
       "      <td>TO</td>\n",
       "      <td>Norte</td>\n",
       "      <td>1666806.0</td>\n",
       "      <td>916</td>\n",
       "    </tr>\n",
       "    <tr>\n",
       "      <th>21</th>\n",
       "      <td>ES</td>\n",
       "      <td>Sudeste</td>\n",
       "      <td>1665180.0</td>\n",
       "      <td>917</td>\n",
       "    </tr>\n",
       "    <tr>\n",
       "      <th>22</th>\n",
       "      <td>PR</td>\n",
       "      <td>Sul</td>\n",
       "      <td>1663617.0</td>\n",
       "      <td>922</td>\n",
       "    </tr>\n",
       "    <tr>\n",
       "      <th>23</th>\n",
       "      <td>RO</td>\n",
       "      <td>Norte</td>\n",
       "      <td>1659829.0</td>\n",
       "      <td>938</td>\n",
       "    </tr>\n",
       "    <tr>\n",
       "      <th>24</th>\n",
       "      <td>AM</td>\n",
       "      <td>Norte</td>\n",
       "      <td>1567238.0</td>\n",
       "      <td>855</td>\n",
       "    </tr>\n",
       "    <tr>\n",
       "      <th>25</th>\n",
       "      <td>MS</td>\n",
       "      <td>Centro-Oeste</td>\n",
       "      <td>1552833.0</td>\n",
       "      <td>882</td>\n",
       "    </tr>\n",
       "    <tr>\n",
       "      <th>26</th>\n",
       "      <td>AC</td>\n",
       "      <td>Norte</td>\n",
       "      <td>1452770.0</td>\n",
       "      <td>877</td>\n",
       "    </tr>\n",
       "  </tbody>\n",
       "</table>\n",
       "</div>"
      ],
      "text/plain": [
       "   Estado        Regiao  Faturamento  Qtd Pedidos\n",
       "0      AL      Nordeste    1947914.0          947\n",
       "1      PE      Nordeste    1918537.0          951\n",
       "2      SC           Sul    1876949.0          915\n",
       "3      AP         Norte    1876521.0          897\n",
       "4      CE      Nordeste    1866421.0          901\n",
       "5      MA      Nordeste    1866358.0          993\n",
       "6      GO  Centro-Oeste    1833821.0          950\n",
       "7      PB      Nordeste    1810008.0          936\n",
       "8      SP       Sudeste    1781060.0          905\n",
       "9      MT  Centro-Oeste    1737168.0          958\n",
       "10     PI      Nordeste    1726903.0          941\n",
       "11     PA         Norte    1716953.0          957\n",
       "12     SE      Nordeste    1707826.0          932\n",
       "13     RS           Sul    1706759.0          929\n",
       "14     RR         Norte    1702803.0          940\n",
       "15     RJ       Sudeste    1699289.0          938\n",
       "16     RN      Nordeste    1693012.0          939\n",
       "17     BA      Nordeste    1688207.0          916\n",
       "18     DF  Centro-Oeste    1685546.0          973\n",
       "19     MG       Sudeste    1678947.0          931\n",
       "20     TO         Norte    1666806.0          916\n",
       "21     ES       Sudeste    1665180.0          917\n",
       "22     PR           Sul    1663617.0          922\n",
       "23     RO         Norte    1659829.0          938\n",
       "24     AM         Norte    1567238.0          855\n",
       "25     MS  Centro-Oeste    1552833.0          882\n",
       "26     AC         Norte    1452770.0          877"
      ]
     },
     "execution_count": 34,
     "metadata": {},
     "output_type": "execute_result"
    }
   ],
   "source": [
    "query = '''\n",
    "SELECT \n",
    "    estado AS 'Estado',\n",
    "    regiao AS 'Regiao',\n",
    "    SUM(valor_total) AS 'Faturamento',\n",
    "    COUNT(DISTINCT pedido_id) AS 'Qtd Pedidos'\n",
    "FROM ITENS_PEDIDO\n",
    "GROUP BY Estado, Regiao\n",
    "ORDER BY Faturamento DESC;\n",
    "'''\n",
    "df_comparativo_estados = sql_df(query)\n",
    "sql_df(query)"
   ]
  },
  {
   "cell_type": "code",
   "execution_count": 35,
   "id": "881c4ba8",
   "metadata": {},
   "outputs": [
    {
     "data": {
      "text/html": [
       "<div>\n",
       "<style scoped>\n",
       "    .dataframe tbody tr th:only-of-type {\n",
       "        vertical-align: middle;\n",
       "    }\n",
       "\n",
       "    .dataframe tbody tr th {\n",
       "        vertical-align: top;\n",
       "    }\n",
       "\n",
       "    .dataframe thead th {\n",
       "        text-align: right;\n",
       "    }\n",
       "</style>\n",
       "<table border=\"1\" class=\"dataframe\">\n",
       "  <thead>\n",
       "    <tr style=\"text-align: right;\">\n",
       "      <th></th>\n",
       "      <th>Região</th>\n",
       "      <th>Faturamento</th>\n",
       "      <th>Qtd Pedidos</th>\n",
       "    </tr>\n",
       "  </thead>\n",
       "  <tbody>\n",
       "    <tr>\n",
       "      <th>0</th>\n",
       "      <td>Nordeste</td>\n",
       "      <td>16225186.0</td>\n",
       "      <td>8456</td>\n",
       "    </tr>\n",
       "    <tr>\n",
       "      <th>1</th>\n",
       "      <td>Norte</td>\n",
       "      <td>11642920.0</td>\n",
       "      <td>6380</td>\n",
       "    </tr>\n",
       "    <tr>\n",
       "      <th>2</th>\n",
       "      <td>Sudeste</td>\n",
       "      <td>6824476.0</td>\n",
       "      <td>3691</td>\n",
       "    </tr>\n",
       "    <tr>\n",
       "      <th>3</th>\n",
       "      <td>Centro-Oeste</td>\n",
       "      <td>6809368.0</td>\n",
       "      <td>3763</td>\n",
       "    </tr>\n",
       "    <tr>\n",
       "      <th>4</th>\n",
       "      <td>Sul</td>\n",
       "      <td>5247325.0</td>\n",
       "      <td>2766</td>\n",
       "    </tr>\n",
       "  </tbody>\n",
       "</table>\n",
       "</div>"
      ],
      "text/plain": [
       "         Região  Faturamento  Qtd Pedidos\n",
       "0      Nordeste   16225186.0         8456\n",
       "1         Norte   11642920.0         6380\n",
       "2       Sudeste    6824476.0         3691\n",
       "3  Centro-Oeste    6809368.0         3763\n",
       "4           Sul    5247325.0         2766"
      ]
     },
     "execution_count": 35,
     "metadata": {},
     "output_type": "execute_result"
    }
   ],
   "source": [
    "# Agora que ajustamos os estados, vamos criar um novo dataframe separado pelas regiões para melhorar a visualização\n",
    "query='''\n",
    "SELECT \n",
    "    CASE \n",
    "        WHEN estado IN ('SP', 'RJ', 'MG', 'ES') THEN 'Sudeste'\n",
    "        WHEN estado IN ('PR', 'SC', 'RS') THEN 'Sul'\n",
    "        WHEN estado IN ('DF', 'GO', 'MT', 'MS') THEN 'Centro-Oeste'\n",
    "        WHEN estado IN ('BA', 'SE', 'AL', 'PE', 'PB', 'RN', 'CE', 'PI', 'MA') THEN 'Nordeste'\n",
    "        WHEN estado IN ('AM', 'RR', 'AP', 'PA', 'TO', 'RO', 'AC') THEN 'Norte'\n",
    "        ELSE 'Outros'\n",
    "    END AS 'Região',\n",
    "    SUM(valor_total) AS 'Faturamento',\n",
    "    COUNT(DISTINCT pedido_id) AS 'Qtd Pedidos'\n",
    "FROM ITENS_PEDIDO\n",
    "GROUP BY Região\n",
    "ORDER BY Faturamento DESC;\n",
    "'''\n",
    "\n",
    "df_comparativo_regioes = sql_df(query)\n",
    "sql_df(query)"
   ]
  },
  {
   "cell_type": "code",
   "execution_count": 36,
   "id": "5ce87e50",
   "metadata": {},
   "outputs": [
    {
     "data": {
      "application/vnd.plotly.v1+json": {
       "config": {
        "plotlyServerURL": "https://plot.ly"
       },
       "data": [
        {
         "branchvalues": "total",
         "customdata": [
          [
           "Sudeste",
           6824476
          ],
          [
           "Centro-Oeste",
           6809368
          ],
          [
           "Nordeste",
           16225186
          ],
          [
           "Norte",
           11642920
          ],
          [
           "Sul",
           5247325
          ],
          [
           "(?)",
           46749275
          ]
         ],
         "domain": {
          "x": [
           0,
           1
          ],
          "y": [
           0,
           1
          ]
         },
         "hovertemplate": "labels=%{label}<br>Faturamento=%{value}<br>parent=%{parent}<br>id=%{id}<br>Região=%{customdata[0]}<extra></extra>",
         "ids": [
          "Faturamento/Sudeste",
          "Faturamento/Centro-Oeste",
          "Faturamento/Nordeste",
          "Faturamento/Norte",
          "Faturamento/Sul",
          "Faturamento"
         ],
         "labels": [
          "Sudeste",
          "Centro-Oeste",
          "Nordeste",
          "Norte",
          "Sul",
          "Faturamento"
         ],
         "marker": {
          "colors": [
           "#636efa",
           "#EF553B",
           "#00cc96",
           "#ab63fa",
           "#FFA15A",
           "#19d3f3"
          ]
         },
         "name": "",
         "parents": [
          "Faturamento",
          "Faturamento",
          "Faturamento",
          "Faturamento",
          "Faturamento",
          ""
         ],
         "type": "treemap",
         "values": [
          6824476,
          6809368,
          16225186,
          11642920,
          5247325,
          46749275
         ]
        }
       ],
       "layout": {
        "legend": {
         "tracegroupgap": 0
        },
        "template": {
         "data": {
          "bar": [
           {
            "error_x": {
             "color": "#2a3f5f"
            },
            "error_y": {
             "color": "#2a3f5f"
            },
            "marker": {
             "line": {
              "color": "#E5ECF6",
              "width": 0.5
             },
             "pattern": {
              "fillmode": "overlay",
              "size": 10,
              "solidity": 0.2
             }
            },
            "type": "bar"
           }
          ],
          "barpolar": [
           {
            "marker": {
             "line": {
              "color": "#E5ECF6",
              "width": 0.5
             },
             "pattern": {
              "fillmode": "overlay",
              "size": 10,
              "solidity": 0.2
             }
            },
            "type": "barpolar"
           }
          ],
          "carpet": [
           {
            "aaxis": {
             "endlinecolor": "#2a3f5f",
             "gridcolor": "white",
             "linecolor": "white",
             "minorgridcolor": "white",
             "startlinecolor": "#2a3f5f"
            },
            "baxis": {
             "endlinecolor": "#2a3f5f",
             "gridcolor": "white",
             "linecolor": "white",
             "minorgridcolor": "white",
             "startlinecolor": "#2a3f5f"
            },
            "type": "carpet"
           }
          ],
          "choropleth": [
           {
            "colorbar": {
             "outlinewidth": 0,
             "ticks": ""
            },
            "type": "choropleth"
           }
          ],
          "contour": [
           {
            "colorbar": {
             "outlinewidth": 0,
             "ticks": ""
            },
            "colorscale": [
             [
              0,
              "#0d0887"
             ],
             [
              0.1111111111111111,
              "#46039f"
             ],
             [
              0.2222222222222222,
              "#7201a8"
             ],
             [
              0.3333333333333333,
              "#9c179e"
             ],
             [
              0.4444444444444444,
              "#bd3786"
             ],
             [
              0.5555555555555556,
              "#d8576b"
             ],
             [
              0.6666666666666666,
              "#ed7953"
             ],
             [
              0.7777777777777778,
              "#fb9f3a"
             ],
             [
              0.8888888888888888,
              "#fdca26"
             ],
             [
              1,
              "#f0f921"
             ]
            ],
            "type": "contour"
           }
          ],
          "contourcarpet": [
           {
            "colorbar": {
             "outlinewidth": 0,
             "ticks": ""
            },
            "type": "contourcarpet"
           }
          ],
          "heatmap": [
           {
            "colorbar": {
             "outlinewidth": 0,
             "ticks": ""
            },
            "colorscale": [
             [
              0,
              "#0d0887"
             ],
             [
              0.1111111111111111,
              "#46039f"
             ],
             [
              0.2222222222222222,
              "#7201a8"
             ],
             [
              0.3333333333333333,
              "#9c179e"
             ],
             [
              0.4444444444444444,
              "#bd3786"
             ],
             [
              0.5555555555555556,
              "#d8576b"
             ],
             [
              0.6666666666666666,
              "#ed7953"
             ],
             [
              0.7777777777777778,
              "#fb9f3a"
             ],
             [
              0.8888888888888888,
              "#fdca26"
             ],
             [
              1,
              "#f0f921"
             ]
            ],
            "type": "heatmap"
           }
          ],
          "heatmapgl": [
           {
            "colorbar": {
             "outlinewidth": 0,
             "ticks": ""
            },
            "colorscale": [
             [
              0,
              "#0d0887"
             ],
             [
              0.1111111111111111,
              "#46039f"
             ],
             [
              0.2222222222222222,
              "#7201a8"
             ],
             [
              0.3333333333333333,
              "#9c179e"
             ],
             [
              0.4444444444444444,
              "#bd3786"
             ],
             [
              0.5555555555555556,
              "#d8576b"
             ],
             [
              0.6666666666666666,
              "#ed7953"
             ],
             [
              0.7777777777777778,
              "#fb9f3a"
             ],
             [
              0.8888888888888888,
              "#fdca26"
             ],
             [
              1,
              "#f0f921"
             ]
            ],
            "type": "heatmapgl"
           }
          ],
          "histogram": [
           {
            "marker": {
             "pattern": {
              "fillmode": "overlay",
              "size": 10,
              "solidity": 0.2
             }
            },
            "type": "histogram"
           }
          ],
          "histogram2d": [
           {
            "colorbar": {
             "outlinewidth": 0,
             "ticks": ""
            },
            "colorscale": [
             [
              0,
              "#0d0887"
             ],
             [
              0.1111111111111111,
              "#46039f"
             ],
             [
              0.2222222222222222,
              "#7201a8"
             ],
             [
              0.3333333333333333,
              "#9c179e"
             ],
             [
              0.4444444444444444,
              "#bd3786"
             ],
             [
              0.5555555555555556,
              "#d8576b"
             ],
             [
              0.6666666666666666,
              "#ed7953"
             ],
             [
              0.7777777777777778,
              "#fb9f3a"
             ],
             [
              0.8888888888888888,
              "#fdca26"
             ],
             [
              1,
              "#f0f921"
             ]
            ],
            "type": "histogram2d"
           }
          ],
          "histogram2dcontour": [
           {
            "colorbar": {
             "outlinewidth": 0,
             "ticks": ""
            },
            "colorscale": [
             [
              0,
              "#0d0887"
             ],
             [
              0.1111111111111111,
              "#46039f"
             ],
             [
              0.2222222222222222,
              "#7201a8"
             ],
             [
              0.3333333333333333,
              "#9c179e"
             ],
             [
              0.4444444444444444,
              "#bd3786"
             ],
             [
              0.5555555555555556,
              "#d8576b"
             ],
             [
              0.6666666666666666,
              "#ed7953"
             ],
             [
              0.7777777777777778,
              "#fb9f3a"
             ],
             [
              0.8888888888888888,
              "#fdca26"
             ],
             [
              1,
              "#f0f921"
             ]
            ],
            "type": "histogram2dcontour"
           }
          ],
          "mesh3d": [
           {
            "colorbar": {
             "outlinewidth": 0,
             "ticks": ""
            },
            "type": "mesh3d"
           }
          ],
          "parcoords": [
           {
            "line": {
             "colorbar": {
              "outlinewidth": 0,
              "ticks": ""
             }
            },
            "type": "parcoords"
           }
          ],
          "pie": [
           {
            "automargin": true,
            "type": "pie"
           }
          ],
          "scatter": [
           {
            "fillpattern": {
             "fillmode": "overlay",
             "size": 10,
             "solidity": 0.2
            },
            "type": "scatter"
           }
          ],
          "scatter3d": [
           {
            "line": {
             "colorbar": {
              "outlinewidth": 0,
              "ticks": ""
             }
            },
            "marker": {
             "colorbar": {
              "outlinewidth": 0,
              "ticks": ""
             }
            },
            "type": "scatter3d"
           }
          ],
          "scattercarpet": [
           {
            "marker": {
             "colorbar": {
              "outlinewidth": 0,
              "ticks": ""
             }
            },
            "type": "scattercarpet"
           }
          ],
          "scattergeo": [
           {
            "marker": {
             "colorbar": {
              "outlinewidth": 0,
              "ticks": ""
             }
            },
            "type": "scattergeo"
           }
          ],
          "scattergl": [
           {
            "marker": {
             "colorbar": {
              "outlinewidth": 0,
              "ticks": ""
             }
            },
            "type": "scattergl"
           }
          ],
          "scattermapbox": [
           {
            "marker": {
             "colorbar": {
              "outlinewidth": 0,
              "ticks": ""
             }
            },
            "type": "scattermapbox"
           }
          ],
          "scatterpolar": [
           {
            "marker": {
             "colorbar": {
              "outlinewidth": 0,
              "ticks": ""
             }
            },
            "type": "scatterpolar"
           }
          ],
          "scatterpolargl": [
           {
            "marker": {
             "colorbar": {
              "outlinewidth": 0,
              "ticks": ""
             }
            },
            "type": "scatterpolargl"
           }
          ],
          "scatterternary": [
           {
            "marker": {
             "colorbar": {
              "outlinewidth": 0,
              "ticks": ""
             }
            },
            "type": "scatterternary"
           }
          ],
          "surface": [
           {
            "colorbar": {
             "outlinewidth": 0,
             "ticks": ""
            },
            "colorscale": [
             [
              0,
              "#0d0887"
             ],
             [
              0.1111111111111111,
              "#46039f"
             ],
             [
              0.2222222222222222,
              "#7201a8"
             ],
             [
              0.3333333333333333,
              "#9c179e"
             ],
             [
              0.4444444444444444,
              "#bd3786"
             ],
             [
              0.5555555555555556,
              "#d8576b"
             ],
             [
              0.6666666666666666,
              "#ed7953"
             ],
             [
              0.7777777777777778,
              "#fb9f3a"
             ],
             [
              0.8888888888888888,
              "#fdca26"
             ],
             [
              1,
              "#f0f921"
             ]
            ],
            "type": "surface"
           }
          ],
          "table": [
           {
            "cells": {
             "fill": {
              "color": "#EBF0F8"
             },
             "line": {
              "color": "white"
             }
            },
            "header": {
             "fill": {
              "color": "#C8D4E3"
             },
             "line": {
              "color": "white"
             }
            },
            "type": "table"
           }
          ]
         },
         "layout": {
          "annotationdefaults": {
           "arrowcolor": "#2a3f5f",
           "arrowhead": 0,
           "arrowwidth": 1
          },
          "autotypenumbers": "strict",
          "coloraxis": {
           "colorbar": {
            "outlinewidth": 0,
            "ticks": ""
           }
          },
          "colorscale": {
           "diverging": [
            [
             0,
             "#8e0152"
            ],
            [
             0.1,
             "#c51b7d"
            ],
            [
             0.2,
             "#de77ae"
            ],
            [
             0.3,
             "#f1b6da"
            ],
            [
             0.4,
             "#fde0ef"
            ],
            [
             0.5,
             "#f7f7f7"
            ],
            [
             0.6,
             "#e6f5d0"
            ],
            [
             0.7,
             "#b8e186"
            ],
            [
             0.8,
             "#7fbc41"
            ],
            [
             0.9,
             "#4d9221"
            ],
            [
             1,
             "#276419"
            ]
           ],
           "sequential": [
            [
             0,
             "#0d0887"
            ],
            [
             0.1111111111111111,
             "#46039f"
            ],
            [
             0.2222222222222222,
             "#7201a8"
            ],
            [
             0.3333333333333333,
             "#9c179e"
            ],
            [
             0.4444444444444444,
             "#bd3786"
            ],
            [
             0.5555555555555556,
             "#d8576b"
            ],
            [
             0.6666666666666666,
             "#ed7953"
            ],
            [
             0.7777777777777778,
             "#fb9f3a"
            ],
            [
             0.8888888888888888,
             "#fdca26"
            ],
            [
             1,
             "#f0f921"
            ]
           ],
           "sequentialminus": [
            [
             0,
             "#0d0887"
            ],
            [
             0.1111111111111111,
             "#46039f"
            ],
            [
             0.2222222222222222,
             "#7201a8"
            ],
            [
             0.3333333333333333,
             "#9c179e"
            ],
            [
             0.4444444444444444,
             "#bd3786"
            ],
            [
             0.5555555555555556,
             "#d8576b"
            ],
            [
             0.6666666666666666,
             "#ed7953"
            ],
            [
             0.7777777777777778,
             "#fb9f3a"
            ],
            [
             0.8888888888888888,
             "#fdca26"
            ],
            [
             1,
             "#f0f921"
            ]
           ]
          },
          "colorway": [
           "#636efa",
           "#EF553B",
           "#00cc96",
           "#ab63fa",
           "#FFA15A",
           "#19d3f3",
           "#FF6692",
           "#B6E880",
           "#FF97FF",
           "#FECB52"
          ],
          "font": {
           "color": "#2a3f5f"
          },
          "geo": {
           "bgcolor": "white",
           "lakecolor": "white",
           "landcolor": "#E5ECF6",
           "showlakes": true,
           "showland": true,
           "subunitcolor": "white"
          },
          "hoverlabel": {
           "align": "left"
          },
          "hovermode": "closest",
          "mapbox": {
           "style": "light"
          },
          "paper_bgcolor": "white",
          "plot_bgcolor": "#E5ECF6",
          "polar": {
           "angularaxis": {
            "gridcolor": "white",
            "linecolor": "white",
            "ticks": ""
           },
           "bgcolor": "#E5ECF6",
           "radialaxis": {
            "gridcolor": "white",
            "linecolor": "white",
            "ticks": ""
           }
          },
          "scene": {
           "xaxis": {
            "backgroundcolor": "#E5ECF6",
            "gridcolor": "white",
            "gridwidth": 2,
            "linecolor": "white",
            "showbackground": true,
            "ticks": "",
            "zerolinecolor": "white"
           },
           "yaxis": {
            "backgroundcolor": "#E5ECF6",
            "gridcolor": "white",
            "gridwidth": 2,
            "linecolor": "white",
            "showbackground": true,
            "ticks": "",
            "zerolinecolor": "white"
           },
           "zaxis": {
            "backgroundcolor": "#E5ECF6",
            "gridcolor": "white",
            "gridwidth": 2,
            "linecolor": "white",
            "showbackground": true,
            "ticks": "",
            "zerolinecolor": "white"
           }
          },
          "shapedefaults": {
           "line": {
            "color": "#2a3f5f"
           }
          },
          "ternary": {
           "aaxis": {
            "gridcolor": "white",
            "linecolor": "white",
            "ticks": ""
           },
           "baxis": {
            "gridcolor": "white",
            "linecolor": "white",
            "ticks": ""
           },
           "bgcolor": "#E5ECF6",
           "caxis": {
            "gridcolor": "white",
            "linecolor": "white",
            "ticks": ""
           }
          },
          "title": {
           "x": 0.05
          },
          "xaxis": {
           "automargin": true,
           "gridcolor": "white",
           "linecolor": "white",
           "ticks": "",
           "title": {
            "standoff": 15
           },
           "zerolinecolor": "white",
           "zerolinewidth": 2
          },
          "yaxis": {
           "automargin": true,
           "gridcolor": "white",
           "linecolor": "white",
           "ticks": "",
           "title": {
            "standoff": 15
           },
           "zerolinecolor": "white",
           "zerolinewidth": 2
          }
         }
        },
        "title": {
         "text": "Distribuição de Faturamento por Região"
        }
       }
      }
     },
     "metadata": {},
     "output_type": "display_data"
    }
   ],
   "source": [
    "fig = px.treemap(\n",
    "    df_comparativo_regioes,\n",
    "    path=[px.Constant('Faturamento'), 'Região'], values='Faturamento',\n",
    "    color='Região', custom_data=['Região', 'Faturamento'],\n",
    "    title='Distribuição de Faturamento por Região',\n",
    "    \n",
    ")\n",
    "fig.show()"
   ]
  },
  {
   "cell_type": "markdown",
   "id": "f2b5b9f5",
   "metadata": {},
   "source": [
    "# Destrinchar resultados\n",
    "Após o treemap, fica 'fácil' notar que o Nordeste é a nossa região mais forte, pois só ela já equivale as 2 regiões que menos faturam."
   ]
  },
  {
   "cell_type": "markdown",
   "id": "05a8b63a",
   "metadata": {},
   "source": [
    "5. Custo Logístico Total (Frete)\n",
    "    - Soma total de frete mensal e diferença por lucro\n",
    "    - Lucro por estado e média por pedido "
   ]
  },
  {
   "cell_type": "code",
   "execution_count": 37,
   "id": "9613f235",
   "metadata": {},
   "outputs": [
    {
     "data": {
      "text/html": [
       "<div>\n",
       "<style scoped>\n",
       "    .dataframe tbody tr th:only-of-type {\n",
       "        vertical-align: middle;\n",
       "    }\n",
       "\n",
       "    .dataframe tbody tr th {\n",
       "        vertical-align: top;\n",
       "    }\n",
       "\n",
       "    .dataframe thead th {\n",
       "        text-align: right;\n",
       "    }\n",
       "</style>\n",
       "<table border=\"1\" class=\"dataframe\">\n",
       "  <thead>\n",
       "    <tr style=\"text-align: right;\">\n",
       "      <th></th>\n",
       "      <th>Estado</th>\n",
       "      <th>Regiao</th>\n",
       "      <th>Faturamento</th>\n",
       "      <th>Total Frete Regiao</th>\n",
       "      <th>Lucro Bruto (Fat - Frete)</th>\n",
       "    </tr>\n",
       "  </thead>\n",
       "  <tbody>\n",
       "    <tr>\n",
       "      <th>0</th>\n",
       "      <td>AL</td>\n",
       "      <td>Nordeste</td>\n",
       "      <td>1947914.0</td>\n",
       "      <td>516607.0</td>\n",
       "      <td>1431307.0</td>\n",
       "    </tr>\n",
       "    <tr>\n",
       "      <th>1</th>\n",
       "      <td>PE</td>\n",
       "      <td>Nordeste</td>\n",
       "      <td>1918537.0</td>\n",
       "      <td>513005.0</td>\n",
       "      <td>1405532.0</td>\n",
       "    </tr>\n",
       "    <tr>\n",
       "      <th>2</th>\n",
       "      <td>SC</td>\n",
       "      <td>Sul</td>\n",
       "      <td>1876949.0</td>\n",
       "      <td>489481.0</td>\n",
       "      <td>1387468.0</td>\n",
       "    </tr>\n",
       "    <tr>\n",
       "      <th>3</th>\n",
       "      <td>AP</td>\n",
       "      <td>Norte</td>\n",
       "      <td>1876521.0</td>\n",
       "      <td>496662.0</td>\n",
       "      <td>1379859.0</td>\n",
       "    </tr>\n",
       "    <tr>\n",
       "      <th>4</th>\n",
       "      <td>CE</td>\n",
       "      <td>Nordeste</td>\n",
       "      <td>1866421.0</td>\n",
       "      <td>527987.0</td>\n",
       "      <td>1338434.0</td>\n",
       "    </tr>\n",
       "    <tr>\n",
       "      <th>5</th>\n",
       "      <td>MA</td>\n",
       "      <td>Nordeste</td>\n",
       "      <td>1866358.0</td>\n",
       "      <td>576317.0</td>\n",
       "      <td>1290041.0</td>\n",
       "    </tr>\n",
       "    <tr>\n",
       "      <th>6</th>\n",
       "      <td>GO</td>\n",
       "      <td>Centro-Oeste</td>\n",
       "      <td>1833821.0</td>\n",
       "      <td>505348.0</td>\n",
       "      <td>1328473.0</td>\n",
       "    </tr>\n",
       "    <tr>\n",
       "      <th>7</th>\n",
       "      <td>PB</td>\n",
       "      <td>Nordeste</td>\n",
       "      <td>1810008.0</td>\n",
       "      <td>472995.0</td>\n",
       "      <td>1337013.0</td>\n",
       "    </tr>\n",
       "    <tr>\n",
       "      <th>8</th>\n",
       "      <td>SP</td>\n",
       "      <td>Sudeste</td>\n",
       "      <td>1781060.0</td>\n",
       "      <td>468235.0</td>\n",
       "      <td>1312825.0</td>\n",
       "    </tr>\n",
       "    <tr>\n",
       "      <th>9</th>\n",
       "      <td>MT</td>\n",
       "      <td>Centro-Oeste</td>\n",
       "      <td>1737168.0</td>\n",
       "      <td>482529.0</td>\n",
       "      <td>1254639.0</td>\n",
       "    </tr>\n",
       "    <tr>\n",
       "      <th>10</th>\n",
       "      <td>PI</td>\n",
       "      <td>Nordeste</td>\n",
       "      <td>1726903.0</td>\n",
       "      <td>490205.0</td>\n",
       "      <td>1236698.0</td>\n",
       "    </tr>\n",
       "    <tr>\n",
       "      <th>11</th>\n",
       "      <td>PA</td>\n",
       "      <td>Norte</td>\n",
       "      <td>1716953.0</td>\n",
       "      <td>468784.0</td>\n",
       "      <td>1248169.0</td>\n",
       "    </tr>\n",
       "    <tr>\n",
       "      <th>12</th>\n",
       "      <td>SE</td>\n",
       "      <td>Nordeste</td>\n",
       "      <td>1707826.0</td>\n",
       "      <td>458486.0</td>\n",
       "      <td>1249340.0</td>\n",
       "    </tr>\n",
       "    <tr>\n",
       "      <th>13</th>\n",
       "      <td>RS</td>\n",
       "      <td>Sul</td>\n",
       "      <td>1706759.0</td>\n",
       "      <td>492568.0</td>\n",
       "      <td>1214191.0</td>\n",
       "    </tr>\n",
       "    <tr>\n",
       "      <th>14</th>\n",
       "      <td>RR</td>\n",
       "      <td>Norte</td>\n",
       "      <td>1702803.0</td>\n",
       "      <td>465783.0</td>\n",
       "      <td>1237020.0</td>\n",
       "    </tr>\n",
       "    <tr>\n",
       "      <th>15</th>\n",
       "      <td>RJ</td>\n",
       "      <td>Sudeste</td>\n",
       "      <td>1699289.0</td>\n",
       "      <td>486133.0</td>\n",
       "      <td>1213156.0</td>\n",
       "    </tr>\n",
       "    <tr>\n",
       "      <th>16</th>\n",
       "      <td>RN</td>\n",
       "      <td>Nordeste</td>\n",
       "      <td>1693012.0</td>\n",
       "      <td>464354.0</td>\n",
       "      <td>1228658.0</td>\n",
       "    </tr>\n",
       "    <tr>\n",
       "      <th>17</th>\n",
       "      <td>BA</td>\n",
       "      <td>Nordeste</td>\n",
       "      <td>1688207.0</td>\n",
       "      <td>466336.0</td>\n",
       "      <td>1221871.0</td>\n",
       "    </tr>\n",
       "    <tr>\n",
       "      <th>18</th>\n",
       "      <td>DF</td>\n",
       "      <td>Centro-Oeste</td>\n",
       "      <td>1685546.0</td>\n",
       "      <td>471463.0</td>\n",
       "      <td>1214083.0</td>\n",
       "    </tr>\n",
       "    <tr>\n",
       "      <th>19</th>\n",
       "      <td>MG</td>\n",
       "      <td>Sudeste</td>\n",
       "      <td>1678947.0</td>\n",
       "      <td>485400.0</td>\n",
       "      <td>1193547.0</td>\n",
       "    </tr>\n",
       "    <tr>\n",
       "      <th>20</th>\n",
       "      <td>TO</td>\n",
       "      <td>Norte</td>\n",
       "      <td>1666806.0</td>\n",
       "      <td>485229.0</td>\n",
       "      <td>1181577.0</td>\n",
       "    </tr>\n",
       "    <tr>\n",
       "      <th>21</th>\n",
       "      <td>ES</td>\n",
       "      <td>Sudeste</td>\n",
       "      <td>1665180.0</td>\n",
       "      <td>455814.0</td>\n",
       "      <td>1209366.0</td>\n",
       "    </tr>\n",
       "    <tr>\n",
       "      <th>22</th>\n",
       "      <td>PR</td>\n",
       "      <td>Sul</td>\n",
       "      <td>1663617.0</td>\n",
       "      <td>475188.0</td>\n",
       "      <td>1188429.0</td>\n",
       "    </tr>\n",
       "    <tr>\n",
       "      <th>23</th>\n",
       "      <td>RO</td>\n",
       "      <td>Norte</td>\n",
       "      <td>1659829.0</td>\n",
       "      <td>466370.0</td>\n",
       "      <td>1193459.0</td>\n",
       "    </tr>\n",
       "    <tr>\n",
       "      <th>24</th>\n",
       "      <td>AM</td>\n",
       "      <td>Norte</td>\n",
       "      <td>1567238.0</td>\n",
       "      <td>447175.0</td>\n",
       "      <td>1120063.0</td>\n",
       "    </tr>\n",
       "    <tr>\n",
       "      <th>25</th>\n",
       "      <td>MS</td>\n",
       "      <td>Centro-Oeste</td>\n",
       "      <td>1552833.0</td>\n",
       "      <td>474858.0</td>\n",
       "      <td>1077975.0</td>\n",
       "    </tr>\n",
       "    <tr>\n",
       "      <th>26</th>\n",
       "      <td>AC</td>\n",
       "      <td>Norte</td>\n",
       "      <td>1452770.0</td>\n",
       "      <td>397609.0</td>\n",
       "      <td>1055161.0</td>\n",
       "    </tr>\n",
       "  </tbody>\n",
       "</table>\n",
       "</div>"
      ],
      "text/plain": [
       "   Estado        Regiao  Faturamento  Total Frete Regiao  \\\n",
       "0      AL      Nordeste    1947914.0            516607.0   \n",
       "1      PE      Nordeste    1918537.0            513005.0   \n",
       "2      SC           Sul    1876949.0            489481.0   \n",
       "3      AP         Norte    1876521.0            496662.0   \n",
       "4      CE      Nordeste    1866421.0            527987.0   \n",
       "5      MA      Nordeste    1866358.0            576317.0   \n",
       "6      GO  Centro-Oeste    1833821.0            505348.0   \n",
       "7      PB      Nordeste    1810008.0            472995.0   \n",
       "8      SP       Sudeste    1781060.0            468235.0   \n",
       "9      MT  Centro-Oeste    1737168.0            482529.0   \n",
       "10     PI      Nordeste    1726903.0            490205.0   \n",
       "11     PA         Norte    1716953.0            468784.0   \n",
       "12     SE      Nordeste    1707826.0            458486.0   \n",
       "13     RS           Sul    1706759.0            492568.0   \n",
       "14     RR         Norte    1702803.0            465783.0   \n",
       "15     RJ       Sudeste    1699289.0            486133.0   \n",
       "16     RN      Nordeste    1693012.0            464354.0   \n",
       "17     BA      Nordeste    1688207.0            466336.0   \n",
       "18     DF  Centro-Oeste    1685546.0            471463.0   \n",
       "19     MG       Sudeste    1678947.0            485400.0   \n",
       "20     TO         Norte    1666806.0            485229.0   \n",
       "21     ES       Sudeste    1665180.0            455814.0   \n",
       "22     PR           Sul    1663617.0            475188.0   \n",
       "23     RO         Norte    1659829.0            466370.0   \n",
       "24     AM         Norte    1567238.0            447175.0   \n",
       "25     MS  Centro-Oeste    1552833.0            474858.0   \n",
       "26     AC         Norte    1452770.0            397609.0   \n",
       "\n",
       "    Lucro Bruto (Fat - Frete)  \n",
       "0                   1431307.0  \n",
       "1                   1405532.0  \n",
       "2                   1387468.0  \n",
       "3                   1379859.0  \n",
       "4                   1338434.0  \n",
       "5                   1290041.0  \n",
       "6                   1328473.0  \n",
       "7                   1337013.0  \n",
       "8                   1312825.0  \n",
       "9                   1254639.0  \n",
       "10                  1236698.0  \n",
       "11                  1248169.0  \n",
       "12                  1249340.0  \n",
       "13                  1214191.0  \n",
       "14                  1237020.0  \n",
       "15                  1213156.0  \n",
       "16                  1228658.0  \n",
       "17                  1221871.0  \n",
       "18                  1214083.0  \n",
       "19                  1193547.0  \n",
       "20                  1181577.0  \n",
       "21                  1209366.0  \n",
       "22                  1188429.0  \n",
       "23                  1193459.0  \n",
       "24                  1120063.0  \n",
       "25                  1077975.0  \n",
       "26                  1055161.0  "
      ]
     },
     "execution_count": 37,
     "metadata": {},
     "output_type": "execute_result"
    }
   ],
   "source": [
    "query = '''\n",
    "SELECT\n",
    "    estado AS Estado,\n",
    "    REGIAO AS Regiao,\n",
    "    SUM(valor_total) AS Faturamento,\n",
    "    SUM(frete) AS \"Total Frete Regiao\",\n",
    "    SUM(valor_total) - SUM(frete) AS \"Lucro Bruto (Fat - Frete)\"\n",
    "FROM ITENS_PEDIDO\n",
    "GROUP BY estado, regiao\n",
    "ORDER BY Faturamento DESC;\n",
    "'''\n",
    "df_comparativo_lucroXfrete = sql_df(query)\n",
    "sql_df(query)\n"
   ]
  },
  {
   "cell_type": "markdown",
   "id": "a2610b0b",
   "metadata": {},
   "source": [
    "#### Vamos plotar um gráfico para ter uma  melhor visualização dessa diferença por região"
   ]
  },
  {
   "cell_type": "code",
   "execution_count": 200,
   "id": "fa94ffa3",
   "metadata": {},
   "outputs": [
    {
     "data": {
      "image/png": "[encoded data removed]",
      "text/plain": [
       "<Figure size 1400x500 with 1 Axes>"
      ]
     },
     "metadata": {},
     "output_type": "display_data"
    }
   ],
   "source": [
    "#Agrupando as regiões\n",
    "df_regioes = df_comparativo_lucroXfrete.groupby('Regiao')[['Faturamento', 'Total Frete Regiao','Lucro Bruto (Fat - Frete)']].sum()\n",
    "df_regioes.sort_values(by='Faturamento', inplace=True)\n",
    "\n",
    "#Definição de tamanho, tema e cores\n",
    "fig, ax = plt.subplots(figsize=(14, 5))\n",
    "sns.set_theme(style='whitegrid')\n",
    "verde = '#8ac543'\n",
    "laranja = '#fe0000'\n",
    "\n",
    "\n",
    "#Plot e estilização\n",
    "ax.barh(df_regioes.index, df_regioes['Faturamento'], label='Faturamento Bruto', color= verde)\n",
    "ax.barh(df_regioes.index, df_regioes['Total Frete Regiao'], label='Frete Total da Região', color=laranja)\n",
    "\n",
    "ax.set_title('Lucro Bruto por Região - Faturamento vs Total Frete', fontsize=16, fontweight='bold')\n",
    "ax.set_xlabel('')\n",
    "ax.set_xticks([])\n",
    "ax.set_ylabel('')\n",
    "ax.tick_params(axis='y', labelsize=12)\n",
    "ax.legend(fontsize=12)\n",
    "ax.grid(True, axis='both', linestyle='--', alpha=0.4)\n",
    "for spine in ax.spines.values():\n",
    "    spine.set_visible(False)\n",
    "\n",
    "\n",
    "for i in range(len(df_regioes)):\n",
    "    frete = df_regioes.iloc[i]['Total Frete Regiao']\n",
    "    faturamento = df_regioes.iloc[i]['Faturamento']\n",
    "\n",
    "    frete_milhoes = frete / 1e6\n",
    "    faturamento_milhoes = faturamento / 1e6\n",
    "\n",
    "    percentual_frete = (frete / faturamento) * 100 if faturamento != 0 else 0\n",
    "\n",
    "    # Valor do frete (à esquerda da barra) com porcentagem\n",
    "    ax.text(0 + 200000, i,\n",
    "            f\"R$ {frete_milhoes:,.1f} mi\\n({percentual_frete:.1f}%)\", \n",
    "            va='center', ha='left', fontsize=12, color='white', fontweight='bold')\n",
    "\n",
    "    # Valor do faturamento total (à direita da barra)\n",
    "    ax.text(faturamento + 50000, i,\n",
    "            f\"R$ {faturamento_milhoes:,.1f} mi\", \n",
    "            va='center', ha='left', fontsize=12, color='black', fontweight='bold')\n",
    "\n",
    "\n",
    "\n",
    "plt.tight_layout()\n",
    "plt.show()"
   ]
  },
  {
   "cell_type": "markdown",
   "id": "cd625932",
   "metadata": {},
   "source": [
    "#### Destrinchar\n",
    "mas cerca de 28% em média está comprometido com os fretes de entrega"
   ]
  },
  {
   "cell_type": "markdown",
   "id": "edeb7a09",
   "metadata": {},
   "source": [
    "## Finalização"
   ]
  }
 ],
 "metadata": {
  "kernelspec": {
   "display_name": "Python 3",
   "language": "python",
   "name": "python3"
  },
  "language_info": {
   "codemirror_mode": {
    "name": "ipython",
    "version": 3
   },
   "file_extension": ".py",
   "mimetype": "text/x-python",
   "name": "python",
   "nbconvert_exporter": "python",
   "pygments_lexer": "ipython3",
   "version": "3.7.7"
  }
 },
 "nbformat": 4,
 "nbformat_minor": 5
}
